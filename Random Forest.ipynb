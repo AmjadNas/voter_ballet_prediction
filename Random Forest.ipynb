{
 "cells": [
  {
   "cell_type": "code",
   "execution_count": 1,
   "metadata": {},
   "outputs": [],
   "source": [
    "import numpy as np\n",
    "import pandas as pd\n",
    "from sklearn.ensemble import RandomForestRegressor\n",
    "from sklearn.model_selection import RandomizedSearchCV\n",
    "from sklearn import metrics\n",
    "import json\n",
    "\n",
    "def load_from_disk(name):\n",
    "    try:\n",
    "        with open(name, 'r') as f:\n",
    "            tree = json.load(f)\n",
    "            return tree\n",
    "    except:\n",
    "        return None"
   ]
  },
  {
   "cell_type": "markdown",
   "metadata": {},
   "source": [
    "# Loading relevant data"
   ]
  },
  {
   "cell_type": "code",
   "execution_count": 2,
   "metadata": {},
   "outputs": [],
   "source": [
    "lbl2word = load_from_disk(\"generated/lbl2word.json\")\n",
    "word2lbl = load_from_disk(\"generated/word2lbl.json\")\n",
    "symbol2name = load_from_disk(\"generated/symbol2name.json\")\n",
    "name2symbol = load_from_disk(\"generated/name2symbol.json\")"
   ]
  },
  {
   "cell_type": "code",
   "execution_count": 3,
   "metadata": {},
   "outputs": [],
   "source": [
    "expcheb = pd.read_csv(\"generated/expcheb.csv\")"
   ]
  },
  {
   "cell_type": "code",
   "execution_count": 4,
   "metadata": {},
   "outputs": [
    {
     "data": {
      "text/html": [
       "<div>\n",
       "<style scoped>\n",
       "    .dataframe tbody tr th:only-of-type {\n",
       "        vertical-align: middle;\n",
       "    }\n",
       "\n",
       "    .dataframe tbody tr th {\n",
       "        vertical-align: top;\n",
       "    }\n",
       "\n",
       "    .dataframe thead th {\n",
       "        text-align: right;\n",
       "    }\n",
       "</style>\n",
       "<table border=\"1\" class=\"dataframe\">\n",
       "  <thead>\n",
       "    <tr style=\"text-align: right;\">\n",
       "      <th></th>\n",
       "      <th>sName</th>\n",
       "      <th>sSymbol</th>\n",
       "      <th>eligble voters</th>\n",
       "      <th>voters</th>\n",
       "      <th>droped</th>\n",
       "      <th>valid</th>\n",
       "      <th>1</th>\n",
       "      <th>2</th>\n",
       "      <th>3</th>\n",
       "      <th>4</th>\n",
       "      <th>...</th>\n",
       "      <th>Arabs</th>\n",
       "      <th>Founding year</th>\n",
       "      <th>Current type of locality</th>\n",
       "      <th>Organizational affiliation</th>\n",
       "      <th>Coordinates</th>\n",
       "      <th>height</th>\n",
       "      <th>Planning Commission</th>\n",
       "      <th>Police space</th>\n",
       "      <th>year</th>\n",
       "      <th>Cluster Local Authorities</th>\n",
       "    </tr>\n",
       "  </thead>\n",
       "  <tbody>\n",
       "    <tr>\n",
       "      <th>0</th>\n",
       "      <td>Tirosh</td>\n",
       "      <td>10</td>\n",
       "      <td>333</td>\n",
       "      <td>237</td>\n",
       "      <td>2</td>\n",
       "      <td>235</td>\n",
       "      <td>3</td>\n",
       "      <td>0</td>\n",
       "      <td>0</td>\n",
       "      <td>0</td>\n",
       "      <td>...</td>\n",
       "      <td>0.0</td>\n",
       "      <td>1955</td>\n",
       "      <td>310</td>\n",
       "      <td>2.0</td>\n",
       "      <td>1.892863e+09</td>\n",
       "      <td>130.0</td>\n",
       "      <td>151.0</td>\n",
       "      <td>15000597.0</td>\n",
       "      <td>2018</td>\n",
       "      <td>0.0</td>\n",
       "    </tr>\n",
       "    <tr>\n",
       "      <th>1</th>\n",
       "      <td>Mevasseret Ziyyon</td>\n",
       "      <td>1015</td>\n",
       "      <td>18871</td>\n",
       "      <td>13883</td>\n",
       "      <td>37</td>\n",
       "      <td>13846</td>\n",
       "      <td>81</td>\n",
       "      <td>2</td>\n",
       "      <td>0</td>\n",
       "      <td>2</td>\n",
       "      <td>...</td>\n",
       "      <td>98.0</td>\n",
       "      <td>1951</td>\n",
       "      <td>160</td>\n",
       "      <td>0.0</td>\n",
       "      <td>2.144363e+09</td>\n",
       "      <td>583.0</td>\n",
       "      <td>152.0</td>\n",
       "      <td>10002475.0</td>\n",
       "      <td>2018</td>\n",
       "      <td>0.0</td>\n",
       "    </tr>\n",
       "    <tr>\n",
       "      <th>2</th>\n",
       "      <td>Me'ir Shefeya</td>\n",
       "      <td>102</td>\n",
       "      <td>106</td>\n",
       "      <td>54</td>\n",
       "      <td>0</td>\n",
       "      <td>54</td>\n",
       "      <td>0</td>\n",
       "      <td>0</td>\n",
       "      <td>0</td>\n",
       "      <td>0</td>\n",
       "      <td>...</td>\n",
       "      <td>38.0</td>\n",
       "      <td>1923</td>\n",
       "      <td>340</td>\n",
       "      <td>0.0</td>\n",
       "      <td>1.975772e+09</td>\n",
       "      <td>63.0</td>\n",
       "      <td>303.0</td>\n",
       "      <td>10004333.0</td>\n",
       "      <td>2018</td>\n",
       "      <td>0.0</td>\n",
       "    </tr>\n",
       "    <tr>\n",
       "      <th>3</th>\n",
       "      <td>Or Aqiva</td>\n",
       "      <td>1020</td>\n",
       "      <td>15520</td>\n",
       "      <td>9773</td>\n",
       "      <td>72</td>\n",
       "      <td>9701</td>\n",
       "      <td>119</td>\n",
       "      <td>0</td>\n",
       "      <td>0</td>\n",
       "      <td>0</td>\n",
       "      <td>...</td>\n",
       "      <td>93.0</td>\n",
       "      <td>1951</td>\n",
       "      <td>170</td>\n",
       "      <td>0.0</td>\n",
       "      <td>1.927371e+09</td>\n",
       "      <td>10.0</td>\n",
       "      <td>353.0</td>\n",
       "      <td>10004261.0</td>\n",
       "      <td>2018</td>\n",
       "      <td>0.0</td>\n",
       "    </tr>\n",
       "    <tr>\n",
       "      <th>4</th>\n",
       "      <td>Haruzim</td>\n",
       "      <td>1024</td>\n",
       "      <td>584</td>\n",
       "      <td>442</td>\n",
       "      <td>3</td>\n",
       "      <td>439</td>\n",
       "      <td>3</td>\n",
       "      <td>0</td>\n",
       "      <td>0</td>\n",
       "      <td>0</td>\n",
       "      <td>...</td>\n",
       "      <td>0.0</td>\n",
       "      <td>1951</td>\n",
       "      <td>350</td>\n",
       "      <td>0.0</td>\n",
       "      <td>1.874468e+09</td>\n",
       "      <td>39.0</td>\n",
       "      <td>401.0</td>\n",
       "      <td>15000060.0</td>\n",
       "      <td>2018</td>\n",
       "      <td>0.0</td>\n",
       "    </tr>\n",
       "  </tbody>\n",
       "</table>\n",
       "<p>5 rows × 85 columns</p>\n",
       "</div>"
      ],
      "text/plain": [
       "               sName  sSymbol  eligble voters  voters  droped  valid    1  2  \\\n",
       "0             Tirosh       10             333     237       2    235    3  0   \n",
       "1  Mevasseret Ziyyon     1015           18871   13883      37  13846   81  2   \n",
       "2      Me'ir Shefeya      102             106      54       0     54    0  0   \n",
       "3           Or Aqiva     1020           15520    9773      72   9701  119  0   \n",
       "4            Haruzim     1024             584     442       3    439    3  0   \n",
       "\n",
       "   3  4  ...  Arabs  Founding year  Current type of locality  \\\n",
       "0  0  0  ...    0.0           1955                       310   \n",
       "1  0  2  ...   98.0           1951                       160   \n",
       "2  0  0  ...   38.0           1923                       340   \n",
       "3  0  0  ...   93.0           1951                       170   \n",
       "4  0  0  ...    0.0           1951                       350   \n",
       "\n",
       "   Organizational affiliation   Coordinates  height  Planning Commission  \\\n",
       "0                         2.0  1.892863e+09   130.0                151.0   \n",
       "1                         0.0  2.144363e+09   583.0                152.0   \n",
       "2                         0.0  1.975772e+09    63.0                303.0   \n",
       "3                         0.0  1.927371e+09    10.0                353.0   \n",
       "4                         0.0  1.874468e+09    39.0                401.0   \n",
       "\n",
       "   Police space  year  Cluster Local Authorities  \n",
       "0    15000597.0  2018                        0.0  \n",
       "1    10002475.0  2018                        0.0  \n",
       "2    10004333.0  2018                        0.0  \n",
       "3    10004261.0  2018                        0.0  \n",
       "4    15000060.0  2018                        0.0  \n",
       "\n",
       "[5 rows x 85 columns]"
      ]
     },
     "execution_count": 4,
     "metadata": {},
     "output_type": "execute_result"
    }
   ],
   "source": [
    "expcheb.head()"
   ]
  },
  {
   "cell_type": "code",
   "execution_count": 5,
   "metadata": {},
   "outputs": [],
   "source": [
    "expcheb2 = pd.read_csv(\"generated/expcheb2.csv\")"
   ]
  },
  {
   "cell_type": "code",
   "execution_count": 6,
   "metadata": {},
   "outputs": [],
   "source": [
    "expcheb3 = pd.read_csv(\"generated/expcheb3.csv\")"
   ]
  },
  {
   "cell_type": "code",
   "execution_count": 7,
   "metadata": {},
   "outputs": [],
   "source": [
    "data = expcheb.append(expcheb2, ignore_index=True)"
   ]
  },
  {
   "cell_type": "code",
   "execution_count": 8,
   "metadata": {},
   "outputs": [],
   "source": [
    "del expcheb2\n",
    "del expcheb"
   ]
  },
  {
   "cell_type": "markdown",
   "metadata": {},
   "source": [
    "# Droping irrelevant columns\n",
    "\n",
    "droping irrelevant columns like height. We also decided to drop the number of votes and the droped votes because they don't have any relvancy to the the number of valid votes"
   ]
  },
  {
   "cell_type": "code",
   "execution_count": 9,
   "metadata": {},
   "outputs": [],
   "source": [
    "def drop_cols(data):\n",
    "    cols = [\"sName\", \"voters\", \"valid\", \"droped\", \"subdistrict\", \"Natural area\", \"Metropolitan affiliation\", \"Founding year\", \"Organizational affiliation\", \"Coordinates\", \"height\", \"Planning Commission\", \"Police space\", \"year\", \"Cluster Local Authorities\"]\n",
    "    for col in cols:\n",
    "        data = data.drop(col, axis=1)\n",
    "        \n",
    "    return data\n"
   ]
  },
  {
   "cell_type": "code",
   "execution_count": 10,
   "metadata": {},
   "outputs": [],
   "source": [
    "train_label = data[\"valid\"]\n",
    "data = drop_cols(data)\n",
    "test_label = expcheb3[\"valid\"]\n",
    "expcheb3 = drop_cols(expcheb3)"
   ]
  },
  {
   "cell_type": "code",
   "execution_count": 11,
   "metadata": {},
   "outputs": [],
   "source": [
    "RSEED = 50"
   ]
  },
  {
   "cell_type": "markdown",
   "metadata": {},
   "source": [
    "Running grid search to find the best params for the forest model"
   ]
  },
  {
   "cell_type": "code",
   "execution_count": 12,
   "metadata": {},
   "outputs": [
    {
     "name": "stdout",
     "output_type": "stream",
     "text": [
      "Fitting 5 folds for each of 1 candidates, totalling 5 fits\n"
     ]
    },
    {
     "name": "stderr",
     "output_type": "stream",
     "text": [
      "[Parallel(n_jobs=-1)]: Using backend LokyBackend with 12 concurrent workers.\n",
      "[Parallel(n_jobs=-1)]: Done   5 out of   5 | elapsed:    1.9s finished\n"
     ]
    },
    {
     "data": {
      "text/plain": [
       "RandomizedSearchCV(cv=5, error_score=nan,\n",
       "                   estimator=RandomForestRegressor(bootstrap=True,\n",
       "                                                   ccp_alpha=0.0,\n",
       "                                                   criterion='mse',\n",
       "                                                   max_depth=None,\n",
       "                                                   max_features='auto',\n",
       "                                                   max_leaf_nodes=None,\n",
       "                                                   max_samples=None,\n",
       "                                                   min_impurity_decrease=0.0,\n",
       "                                                   min_impurity_split=None,\n",
       "                                                   min_samples_leaf=1,\n",
       "                                                   min_samples_split=2,\n",
       "                                                   min_weight_fraction_leaf=0.0,\n",
       "                                                   n_estimators=100,\n",
       "                                                   n_jobs=None, oob_score=False,\n",
       "                                                   random_state=50, verbose=0,\n",
       "                                                   warm_start=False),\n",
       "                   iid='deprecated', n_iter=1, n_jobs=-1,\n",
       "                   param_distributions={'bootstrap': [True, False],\n",
       "                                        'max_depth': [None, 50, 60, 70],\n",
       "                                        'max_features': ['sqrt', None],\n",
       "                                        'min_samples_split': [2, 5, 10],\n",
       "                                        'n_estimators': [100, 150, 200, 250]},\n",
       "                   pre_dispatch='2*n_jobs', random_state=50, refit=True,\n",
       "                   return_train_score=False, scoring=None, verbose=1)"
      ]
     },
     "execution_count": 12,
     "metadata": {},
     "output_type": "execute_result"
    }
   ],
   "source": [
    "# Hyperparameter grid\n",
    "param_grid = {\n",
    "    'n_estimators': [100, 150, 200, 250],#The number of trees in the forest.\n",
    "    'max_depth': [None, 50, 60, 70] ,#The maximum depth of the tree.\n",
    "    'max_features': ['sqrt', None],#he number of features to consider when looking for the best split\n",
    "    'min_samples_split': [2, 5, 10],#The minimum number of samples required to split an internal node\n",
    "    'bootstrap': [True, False]#Whether bootstrap samples are used when building trees.\n",
    "}\n",
    "\n",
    "# Estimator for use in random search\n",
    "estimator = RandomForestRegressor(random_state = RSEED)\n",
    "\n",
    "# Create the random search model\n",
    "rs = RandomizedSearchCV(estimator, param_grid, n_jobs = -1, cv = 5, \n",
    "                        n_iter = 1, verbose = 1, random_state=RSEED)\n",
    "\n",
    "# Fit \n",
    "rs.fit(data, train_label)\n"
   ]
  },
  {
   "cell_type": "code",
   "execution_count": 13,
   "metadata": {},
   "outputs": [
    {
     "data": {
      "text/plain": [
       "{'n_estimators': 100,\n",
       " 'min_samples_split': 10,\n",
       " 'max_features': 'sqrt',\n",
       " 'max_depth': 70,\n",
       " 'bootstrap': False}"
      ]
     },
     "execution_count": 13,
     "metadata": {},
     "output_type": "execute_result"
    }
   ],
   "source": [
    "rs.best_params_"
   ]
  },
  {
   "cell_type": "code",
   "execution_count": 14,
   "metadata": {},
   "outputs": [],
   "source": [
    "best_model = rs.best_estimator_"
   ]
  },
  {
   "cell_type": "code",
   "execution_count": 15,
   "metadata": {},
   "outputs": [
    {
     "data": {
      "text/plain": [
       "3593004.9144506543"
      ]
     },
     "execution_count": 15,
     "metadata": {},
     "output_type": "execute_result"
    }
   ],
   "source": [
    "rf_predictions = best_model.predict(expcheb3)\n",
    "metrics.mean_squared_error(rf_predictions, test_label)"
   ]
  },
  {
   "cell_type": "code",
   "execution_count": 16,
   "metadata": {},
   "outputs": [],
   "source": [
    "cities = [\"Haifa\", \"Sakhnin\", \"Qazrin\", \"Elat\", \"Ayyelet HaShahar\"]"
   ]
  },
  {
   "cell_type": "code",
   "execution_count": 17,
   "metadata": {},
   "outputs": [
    {
     "data": {
      "text/html": [
       "<div>\n",
       "<style scoped>\n",
       "    .dataframe tbody tr th:only-of-type {\n",
       "        vertical-align: middle;\n",
       "    }\n",
       "\n",
       "    .dataframe tbody tr th {\n",
       "        vertical-align: top;\n",
       "    }\n",
       "\n",
       "    .dataframe thead th {\n",
       "        text-align: right;\n",
       "    }\n",
       "</style>\n",
       "<table border=\"1\" class=\"dataframe\">\n",
       "  <thead>\n",
       "    <tr style=\"text-align: right;\">\n",
       "      <th></th>\n",
       "      <th>sName</th>\n",
       "      <th>Predictions</th>\n",
       "    </tr>\n",
       "  </thead>\n",
       "  <tbody>\n",
       "    <tr>\n",
       "      <th>59</th>\n",
       "      <td>Ayyelet HaShahar</td>\n",
       "      <td>611.107694</td>\n",
       "    </tr>\n",
       "    <tr>\n",
       "      <th>63</th>\n",
       "      <td>Elat</td>\n",
       "      <td>25143.108020</td>\n",
       "    </tr>\n",
       "    <tr>\n",
       "      <th>405</th>\n",
       "      <td>Haifa</td>\n",
       "      <td>151720.242151</td>\n",
       "    </tr>\n",
       "    <tr>\n",
       "      <th>868</th>\n",
       "      <td>Sakhnin</td>\n",
       "      <td>13347.731690</td>\n",
       "    </tr>\n",
       "    <tr>\n",
       "      <th>1033</th>\n",
       "      <td>Qazrin</td>\n",
       "      <td>3862.739778</td>\n",
       "    </tr>\n",
       "  </tbody>\n",
       "</table>\n",
       "</div>"
      ],
      "text/plain": [
       "                 sName    Predictions\n",
       "59    Ayyelet HaShahar     611.107694\n",
       "63                Elat   25143.108020\n",
       "405              Haifa  151720.242151\n",
       "868            Sakhnin   13347.731690\n",
       "1033            Qazrin    3862.739778"
      ]
     },
     "execution_count": 17,
     "metadata": {},
     "output_type": "execute_result"
    }
   ],
   "source": [
    "df = pd.DataFrame({\"Predictions\":rf_predictions})\n",
    "names = [symbol2name[str(value)] for value in expcheb3[\"sSymbol\"]]\n",
    "df.insert(0,\"sName\", names)\n",
    "df.loc[df[\"sName\"].isin(cities)]"
   ]
  },
  {
   "cell_type": "code",
   "execution_count": null,
   "metadata": {},
   "outputs": [],
   "source": []
  }
 ],
 "metadata": {
  "kernelspec": {
   "display_name": "Python 3",
   "language": "python",
   "name": "python3"
  },
  "language_info": {
   "codemirror_mode": {
    "name": "ipython",
    "version": 3
   },
   "file_extension": ".py",
   "mimetype": "text/x-python",
   "name": "python",
   "nbconvert_exporter": "python",
   "pygments_lexer": "ipython3",
   "version": "3.7.6"
  }
 },
 "nbformat": 4,
 "nbformat_minor": 4
}
