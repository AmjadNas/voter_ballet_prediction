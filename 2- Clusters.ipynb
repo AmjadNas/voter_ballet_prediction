{
 "cells": [
  {
   "cell_type": "code",
   "execution_count": 1,
   "metadata": {},
   "outputs": [],
   "source": [
    "%matplotlib inline\n",
    "import matplotlib.pyplot as plt\n",
    "from sklearn.mixture import GaussianMixture\n",
    "import pandas as pd\n",
    "import numpy as np\n",
    "import json\n",
    "from scipy.spatial.distance import cdist\n",
    "from sklearn.cluster import KMeans"
   ]
  },
  {
   "cell_type": "markdown",
   "metadata": {},
   "source": [
    "### Functions"
   ]
  },
  {
   "cell_type": "code",
   "execution_count": 2,
   "metadata": {},
   "outputs": [],
   "source": [
    "def draw_elbow(df):\n",
    "    # k means determine k\n",
    "    distortions = []\n",
    "    K = range(1,10)\n",
    "    for k in K:\n",
    "        kmeanModel = KMeans(n_clusters=k).fit(df)\n",
    "        kmeanModel.fit(df)\n",
    "        distortions.append(sum(np.min(cdist(df, kmeanModel.cluster_centers_, 'euclidean'), axis=1)) / df.shape[0])\n",
    "\n",
    "    # Plot the elbow\n",
    "    plt.plot(K, distortions, 'bx-')\n",
    "    plt.xlabel('k')\n",
    "    plt.ylabel('Within groups sum of squares')\n",
    "    plt.title('The Elbow Method showing the optimal k')\n",
    "    plt.show()"
   ]
  },
  {
   "cell_type": "code",
   "execution_count": 3,
   "metadata": {},
   "outputs": [],
   "source": [
    "def plot_kmeans(kmeans, X, n_clusters=4, rseed=0, ax=None):\n",
    "    labels = kmeans.fit_predict(X)\n",
    "\n",
    "    # plot the input data\n",
    "    ax = ax or plt.gca()\n",
    "    ax.axis('equal')\n",
    "    ax.scatter(X[:, 0], X[:, 1], c=labels, s=40, cmap='viridis', zorder=2)\n",
    "\n",
    "    # plot the representation of the KMeans model\n",
    "    centers = kmeans.cluster_centers_\n",
    "    radii = [cdist(X[labels == i], [center]).max()\n",
    "             for i, center in enumerate(centers)]\n",
    "    for c, r in zip(centers, radii):\n",
    "        ax.add_patch(plt.Circle(c, r, fc='#CCCCCC', lw=3, alpha=0.5, zorder=1))"
   ]
  },
  {
   "cell_type": "code",
   "execution_count": 4,
   "metadata": {},
   "outputs": [],
   "source": [
    "def drop_cols(data):\n",
    "    cols = [\"sName\", \"subdistrict\", \"Natural area\", \"Metropolitan affiliation\", \"Founding year\", \"Organizational affiliation\", \"Coordinates\", \"height\", \"Planning Commission\", \"Police space\", \"year\", \"Cluster Local Authorities\"]\n",
    "    for col in cols:\n",
    "        data = data.drop(col, axis=1)\n",
    "        \n",
    "    return data"
   ]
  },
  {
   "cell_type": "code",
   "execution_count": 5,
   "metadata": {},
   "outputs": [],
   "source": [
    "def normalize(data):\n",
    "    lst = []\n",
    "    for row in data.values:\n",
    "        summ = 0\n",
    "        summ += sum(row**2)\n",
    "        lst.append(row /np.sqrt(summ))\n",
    "    return lst"
   ]
  },
  {
   "cell_type": "code",
   "execution_count": 6,
   "metadata": {},
   "outputs": [],
   "source": [
    "def load_from_disk(name):\n",
    "    try:\n",
    "        with open(name, 'r') as f:\n",
    "            tree = json.load(f)\n",
    "            return tree\n",
    "    except:\n",
    "        return None"
   ]
  },
  {
   "cell_type": "markdown",
   "metadata": {},
   "source": [
    "### Loading relevant data"
   ]
  },
  {
   "cell_type": "code",
   "execution_count": 7,
   "metadata": {},
   "outputs": [],
   "source": [
    "lbl2word = load_from_disk(\"generated/generated/lbl2word.json\")\n",
    "word2lbl = load_from_disk(\"generated/word2lbl.json\")\n",
    "symbol2name = load_from_disk(\"generated/symbol2name.json\")\n",
    "name2symbol = load_from_disk(\"generated/name2symbol.json\")"
   ]
  },
  {
   "cell_type": "code",
   "execution_count": 8,
   "metadata": {},
   "outputs": [
    {
     "data": {
      "text/html": [
       "<div>\n",
       "<style scoped>\n",
       "    .dataframe tbody tr th:only-of-type {\n",
       "        vertical-align: middle;\n",
       "    }\n",
       "\n",
       "    .dataframe tbody tr th {\n",
       "        vertical-align: top;\n",
       "    }\n",
       "\n",
       "    .dataframe thead th {\n",
       "        text-align: right;\n",
       "    }\n",
       "</style>\n",
       "<table border=\"1\" class=\"dataframe\">\n",
       "  <thead>\n",
       "    <tr style=\"text-align: right;\">\n",
       "      <th></th>\n",
       "      <th>באור</th>\n",
       "      <th>religion</th>\n",
       "    </tr>\n",
       "  </thead>\n",
       "  <tbody>\n",
       "    <tr>\n",
       "      <th>3</th>\n",
       "      <td>יהודי</td>\n",
       "      <td>1.0</td>\n",
       "    </tr>\n",
       "    <tr>\n",
       "      <th>4</th>\n",
       "      <td>לא יהודי</td>\n",
       "      <td>2.0</td>\n",
       "    </tr>\n",
       "    <tr>\n",
       "      <th>5</th>\n",
       "      <td>שבט בדווי</td>\n",
       "      <td>3.0</td>\n",
       "    </tr>\n",
       "    <tr>\n",
       "      <th>6</th>\n",
       "      <td>ישוב מעורב</td>\n",
       "      <td>4.0</td>\n",
       "    </tr>\n",
       "  </tbody>\n",
       "</table>\n",
       "</div>"
      ],
      "text/plain": [
       "         באור  religion\n",
       "3       יהודי       1.0\n",
       "4    לא יהודי       2.0\n",
       "5   שבט בדווי       3.0\n",
       "6  ישוב מעורב       4.0"
      ]
     },
     "execution_count": 8,
     "metadata": {},
     "output_type": "execute_result"
    }
   ],
   "source": [
    "index_df = pd.read_excel(\"info/index 2018heb.xlsx\", sheet_name='דת היישוב', header=None, usecols=[0, 1], \n",
    "                         names=['באור', 'religion']).dropna()\n",
    "index_df = index_df.drop(2, axis = 0)\n",
    "index_df[\"religion\"] = index_df[\"religion\"].astype(float)\n",
    "index_df"
   ]
  },
  {
   "cell_type": "code",
   "execution_count": 9,
   "metadata": {},
   "outputs": [
    {
     "name": "stdout",
     "output_type": "stream",
     "text": [
      "(28, 2)\n"
     ]
    },
    {
     "data": {
      "text/html": [
       "<div>\n",
       "<style scoped>\n",
       "    .dataframe tbody tr th:only-of-type {\n",
       "        vertical-align: middle;\n",
       "    }\n",
       "\n",
       "    .dataframe tbody tr th {\n",
       "        vertical-align: top;\n",
       "    }\n",
       "\n",
       "    .dataframe thead th {\n",
       "        text-align: right;\n",
       "    }\n",
       "</style>\n",
       "<table border=\"1\" class=\"dataframe\">\n",
       "  <thead>\n",
       "    <tr style=\"text-align: right;\">\n",
       "      <th></th>\n",
       "      <th>Locality type</th>\n",
       "      <th>Current locality type</th>\n",
       "    </tr>\n",
       "  </thead>\n",
       "  <tbody>\n",
       "    <tr>\n",
       "      <th>4</th>\n",
       "      <td>יישובים יהודיים 500,000 תושבים ומעלה</td>\n",
       "      <td>120</td>\n",
       "    </tr>\n",
       "    <tr>\n",
       "      <th>5</th>\n",
       "      <td>יישובים יהודיים 499,999-200,000 תושבים</td>\n",
       "      <td>130</td>\n",
       "    </tr>\n",
       "    <tr>\n",
       "      <th>6</th>\n",
       "      <td>יישובים יהודיים 199,999-100,000 תושבים</td>\n",
       "      <td>140</td>\n",
       "    </tr>\n",
       "    <tr>\n",
       "      <th>7</th>\n",
       "      <td>יישובים יהודיים 99,999-50,000 תושבים</td>\n",
       "      <td>150</td>\n",
       "    </tr>\n",
       "    <tr>\n",
       "      <th>8</th>\n",
       "      <td>יישובים לא יהודיים 99,999-50,000 תושבים</td>\n",
       "      <td>250</td>\n",
       "    </tr>\n",
       "    <tr>\n",
       "      <th>9</th>\n",
       "      <td>יישובים יהודיים 49,999-20,000 תושבים</td>\n",
       "      <td>160</td>\n",
       "    </tr>\n",
       "    <tr>\n",
       "      <th>10</th>\n",
       "      <td>יישובים לא יהודיים 49,999-20,000 תושבים</td>\n",
       "      <td>260</td>\n",
       "    </tr>\n",
       "    <tr>\n",
       "      <th>11</th>\n",
       "      <td>יישובים יהודיים 19,999-10,000 תושבים</td>\n",
       "      <td>170</td>\n",
       "    </tr>\n",
       "    <tr>\n",
       "      <th>12</th>\n",
       "      <td>יישובים לא יהודיים 19,999-10,000 תושבים</td>\n",
       "      <td>270</td>\n",
       "    </tr>\n",
       "    <tr>\n",
       "      <th>13</th>\n",
       "      <td>יישובים יהודיים 9,999-5,000 תושבים</td>\n",
       "      <td>180</td>\n",
       "    </tr>\n",
       "    <tr>\n",
       "      <th>14</th>\n",
       "      <td>יישובים לא יהודיים 9,999-5,000 תושבים</td>\n",
       "      <td>280</td>\n",
       "    </tr>\n",
       "    <tr>\n",
       "      <th>15</th>\n",
       "      <td>יישובים יהודיים 4,999-2,000 תושבים</td>\n",
       "      <td>190</td>\n",
       "    </tr>\n",
       "    <tr>\n",
       "      <th>16</th>\n",
       "      <td>מושבים 4,999-2,000 תושבים</td>\n",
       "      <td>191</td>\n",
       "    </tr>\n",
       "    <tr>\n",
       "      <th>17</th>\n",
       "      <td>מושבים שיתופיים 4,999-2,000 תושבים</td>\n",
       "      <td>192</td>\n",
       "    </tr>\n",
       "    <tr>\n",
       "      <th>18</th>\n",
       "      <td>קיבוצים 4,999-2,000 תושבים</td>\n",
       "      <td>193</td>\n",
       "    </tr>\n",
       "    <tr>\n",
       "      <th>19</th>\n",
       "      <td>יישובים לא יהודיים 4,999-2,000 תושבים</td>\n",
       "      <td>290</td>\n",
       "    </tr>\n",
       "    <tr>\n",
       "      <th>21</th>\n",
       "      <td>מושבים</td>\n",
       "      <td>310</td>\n",
       "    </tr>\n",
       "    <tr>\n",
       "      <th>22</th>\n",
       "      <td>מושבים שיתופיים</td>\n",
       "      <td>320</td>\n",
       "    </tr>\n",
       "    <tr>\n",
       "      <th>23</th>\n",
       "      <td>קיבוצים</td>\n",
       "      <td>330</td>\n",
       "    </tr>\n",
       "    <tr>\n",
       "      <th>24</th>\n",
       "      <td>יישובים מוסדיים, יהודיים</td>\n",
       "      <td>340</td>\n",
       "    </tr>\n",
       "    <tr>\n",
       "      <th>25</th>\n",
       "      <td>יישובים מוסדיים, לא-יהודיים</td>\n",
       "      <td>440</td>\n",
       "    </tr>\n",
       "    <tr>\n",
       "      <th>26</th>\n",
       "      <td>יישובים קהילתיים</td>\n",
       "      <td>370</td>\n",
       "    </tr>\n",
       "    <tr>\n",
       "      <th>27</th>\n",
       "      <td>יישובים כפריים אחרים, יהודיים</td>\n",
       "      <td>350</td>\n",
       "    </tr>\n",
       "    <tr>\n",
       "      <th>28</th>\n",
       "      <td>יישובים כפריים אחרים, לא-יהודיים</td>\n",
       "      <td>450</td>\n",
       "    </tr>\n",
       "    <tr>\n",
       "      <th>29</th>\n",
       "      <td>שבטי בדווים (אוכלוסייתם כלולה ב\"גרים מחוץ לייש...</td>\n",
       "      <td>460</td>\n",
       "    </tr>\n",
       "    <tr>\n",
       "      <th>30</th>\n",
       "      <td>נקודה שאיננה יישוב (האוכלוסייה כלולה ב\"גרים מח...</td>\n",
       "      <td>510</td>\n",
       "    </tr>\n",
       "    <tr>\n",
       "      <th>31</th>\n",
       "      <td>מוקד תעסוקה</td>\n",
       "      <td>520</td>\n",
       "    </tr>\n",
       "    <tr>\n",
       "      <th>32</th>\n",
       "      <td>סמל קיבוצי</td>\n",
       "      <td>530</td>\n",
       "    </tr>\n",
       "  </tbody>\n",
       "</table>\n",
       "</div>"
      ],
      "text/plain": [
       "                                        Locality type Current locality type\n",
       "4                יישובים יהודיים 500,000 תושבים ומעלה                   120\n",
       "5              יישובים יהודיים 499,999-200,000 תושבים                   130\n",
       "6              יישובים יהודיים 199,999-100,000 תושבים                   140\n",
       "7                יישובים יהודיים 99,999-50,000 תושבים                   150\n",
       "8             יישובים לא יהודיים 99,999-50,000 תושבים                   250\n",
       "9                יישובים יהודיים 49,999-20,000 תושבים                   160\n",
       "10            יישובים לא יהודיים 49,999-20,000 תושבים                   260\n",
       "11               יישובים יהודיים 19,999-10,000 תושבים                   170\n",
       "12            יישובים לא יהודיים 19,999-10,000 תושבים                   270\n",
       "13                 יישובים יהודיים 9,999-5,000 תושבים                   180\n",
       "14              יישובים לא יהודיים 9,999-5,000 תושבים                   280\n",
       "15                 יישובים יהודיים 4,999-2,000 תושבים                   190\n",
       "16                          מושבים 4,999-2,000 תושבים                   191\n",
       "17                 מושבים שיתופיים 4,999-2,000 תושבים                   192\n",
       "18                         קיבוצים 4,999-2,000 תושבים                   193\n",
       "19              יישובים לא יהודיים 4,999-2,000 תושבים                   290\n",
       "21                                            מושבים                    310\n",
       "22                                    מושבים שיתופיים                   320\n",
       "23                                            קיבוצים                   330\n",
       "24                           יישובים מוסדיים, יהודיים                   340\n",
       "25                        יישובים מוסדיים, לא-יהודיים                   440\n",
       "26                                   יישובים קהילתיים                   370\n",
       "27                      יישובים כפריים אחרים, יהודיים                   350\n",
       "28                   יישובים כפריים אחרים, לא-יהודיים                   450\n",
       "29  שבטי בדווים (אוכלוסייתם כלולה ב\"גרים מחוץ לייש...                   460\n",
       "30  נקודה שאיננה יישוב (האוכלוסייה כלולה ב\"גרים מח...                   510\n",
       "31                                        מוקד תעסוקה                   520\n",
       "32                                         סמל קיבוצי                   530"
      ]
     },
     "execution_count": 9,
     "metadata": {},
     "output_type": "execute_result"
    }
   ],
   "source": [
    "localities = pd.read_excel(\"info/index 2018heb.xlsx\", sheet_name='צורת יישוב', header=None, usecols=[0, 2], \n",
    "                         names=['Locality type', 'Current locality type']) #.rename(index={0: 'סמל ישוב'})\n",
    "localities = localities.iloc[3:,:]\n",
    "localities = localities.dropna()\n",
    "print(localities.shape)\n",
    "localities"
   ]
  },
  {
   "cell_type": "code",
   "execution_count": 10,
   "metadata": {},
   "outputs": [],
   "source": [
    "expcheb = pd.read_csv(\"generated/expcheb.csv\")"
   ]
  },
  {
   "cell_type": "code",
   "execution_count": 11,
   "metadata": {},
   "outputs": [
    {
     "data": {
      "text/html": [
       "<div>\n",
       "<style scoped>\n",
       "    .dataframe tbody tr th:only-of-type {\n",
       "        vertical-align: middle;\n",
       "    }\n",
       "\n",
       "    .dataframe tbody tr th {\n",
       "        vertical-align: top;\n",
       "    }\n",
       "\n",
       "    .dataframe thead th {\n",
       "        text-align: right;\n",
       "    }\n",
       "</style>\n",
       "<table border=\"1\" class=\"dataframe\">\n",
       "  <thead>\n",
       "    <tr style=\"text-align: right;\">\n",
       "      <th></th>\n",
       "      <th>sName</th>\n",
       "      <th>sSymbol</th>\n",
       "      <th>eligble voters</th>\n",
       "      <th>voters</th>\n",
       "      <th>droped</th>\n",
       "      <th>valid</th>\n",
       "      <th>1</th>\n",
       "      <th>2</th>\n",
       "      <th>3</th>\n",
       "      <th>4</th>\n",
       "      <th>...</th>\n",
       "      <th>Arabs</th>\n",
       "      <th>Founding year</th>\n",
       "      <th>Current type of locality</th>\n",
       "      <th>Organizational affiliation</th>\n",
       "      <th>Coordinates</th>\n",
       "      <th>height</th>\n",
       "      <th>Planning Commission</th>\n",
       "      <th>Police space</th>\n",
       "      <th>year</th>\n",
       "      <th>Cluster Local Authorities</th>\n",
       "    </tr>\n",
       "  </thead>\n",
       "  <tbody>\n",
       "    <tr>\n",
       "      <th>0</th>\n",
       "      <td>Tirosh</td>\n",
       "      <td>10</td>\n",
       "      <td>333</td>\n",
       "      <td>237</td>\n",
       "      <td>2</td>\n",
       "      <td>235</td>\n",
       "      <td>0</td>\n",
       "      <td>6</td>\n",
       "      <td>9</td>\n",
       "      <td>0</td>\n",
       "      <td>...</td>\n",
       "      <td>0.0</td>\n",
       "      <td>1955</td>\n",
       "      <td>310</td>\n",
       "      <td>2.0</td>\n",
       "      <td>1.892863e+09</td>\n",
       "      <td>130.0</td>\n",
       "      <td>151.0</td>\n",
       "      <td>15000597.0</td>\n",
       "      <td>2018</td>\n",
       "      <td>0.0</td>\n",
       "    </tr>\n",
       "    <tr>\n",
       "      <th>1</th>\n",
       "      <td>Mevasseret Ziyyon</td>\n",
       "      <td>1015</td>\n",
       "      <td>18871</td>\n",
       "      <td>13883</td>\n",
       "      <td>37</td>\n",
       "      <td>13846</td>\n",
       "      <td>0</td>\n",
       "      <td>2161</td>\n",
       "      <td>557</td>\n",
       "      <td>1</td>\n",
       "      <td>...</td>\n",
       "      <td>98.0</td>\n",
       "      <td>1951</td>\n",
       "      <td>160</td>\n",
       "      <td>0.0</td>\n",
       "      <td>2.144363e+09</td>\n",
       "      <td>583.0</td>\n",
       "      <td>152.0</td>\n",
       "      <td>10002475.0</td>\n",
       "      <td>2018</td>\n",
       "      <td>0.0</td>\n",
       "    </tr>\n",
       "    <tr>\n",
       "      <th>2</th>\n",
       "      <td>Me'ir Shefeya</td>\n",
       "      <td>102</td>\n",
       "      <td>106</td>\n",
       "      <td>54</td>\n",
       "      <td>0</td>\n",
       "      <td>54</td>\n",
       "      <td>0</td>\n",
       "      <td>11</td>\n",
       "      <td>4</td>\n",
       "      <td>0</td>\n",
       "      <td>...</td>\n",
       "      <td>38.0</td>\n",
       "      <td>1923</td>\n",
       "      <td>340</td>\n",
       "      <td>0.0</td>\n",
       "      <td>1.975772e+09</td>\n",
       "      <td>63.0</td>\n",
       "      <td>303.0</td>\n",
       "      <td>10004333.0</td>\n",
       "      <td>2018</td>\n",
       "      <td>0.0</td>\n",
       "    </tr>\n",
       "    <tr>\n",
       "      <th>3</th>\n",
       "      <td>Or Aqiva</td>\n",
       "      <td>1020</td>\n",
       "      <td>15520</td>\n",
       "      <td>9773</td>\n",
       "      <td>72</td>\n",
       "      <td>9701</td>\n",
       "      <td>0</td>\n",
       "      <td>323</td>\n",
       "      <td>499</td>\n",
       "      <td>0</td>\n",
       "      <td>...</td>\n",
       "      <td>93.0</td>\n",
       "      <td>1951</td>\n",
       "      <td>170</td>\n",
       "      <td>0.0</td>\n",
       "      <td>1.927371e+09</td>\n",
       "      <td>10.0</td>\n",
       "      <td>353.0</td>\n",
       "      <td>10004261.0</td>\n",
       "      <td>2018</td>\n",
       "      <td>0.0</td>\n",
       "    </tr>\n",
       "    <tr>\n",
       "      <th>4</th>\n",
       "      <td>Haruzim</td>\n",
       "      <td>1024</td>\n",
       "      <td>584</td>\n",
       "      <td>442</td>\n",
       "      <td>3</td>\n",
       "      <td>439</td>\n",
       "      <td>0</td>\n",
       "      <td>72</td>\n",
       "      <td>13</td>\n",
       "      <td>0</td>\n",
       "      <td>...</td>\n",
       "      <td>0.0</td>\n",
       "      <td>1951</td>\n",
       "      <td>350</td>\n",
       "      <td>0.0</td>\n",
       "      <td>1.874468e+09</td>\n",
       "      <td>39.0</td>\n",
       "      <td>401.0</td>\n",
       "      <td>15000060.0</td>\n",
       "      <td>2018</td>\n",
       "      <td>0.0</td>\n",
       "    </tr>\n",
       "  </tbody>\n",
       "</table>\n",
       "<p>5 rows × 85 columns</p>\n",
       "</div>"
      ],
      "text/plain": [
       "               sName  sSymbol  eligble voters  voters  droped  valid  1     2  \\\n",
       "0             Tirosh       10             333     237       2    235  0     6   \n",
       "1  Mevasseret Ziyyon     1015           18871   13883      37  13846  0  2161   \n",
       "2      Me'ir Shefeya      102             106      54       0     54  0    11   \n",
       "3           Or Aqiva     1020           15520    9773      72   9701  0   323   \n",
       "4            Haruzim     1024             584     442       3    439  0    72   \n",
       "\n",
       "     3  4  ...  Arabs  Founding year  Current type of locality  \\\n",
       "0    9  0  ...    0.0           1955                       310   \n",
       "1  557  1  ...   98.0           1951                       160   \n",
       "2    4  0  ...   38.0           1923                       340   \n",
       "3  499  0  ...   93.0           1951                       170   \n",
       "4   13  0  ...    0.0           1951                       350   \n",
       "\n",
       "   Organizational affiliation   Coordinates  height  Planning Commission  \\\n",
       "0                         2.0  1.892863e+09   130.0                151.0   \n",
       "1                         0.0  2.144363e+09   583.0                152.0   \n",
       "2                         0.0  1.975772e+09    63.0                303.0   \n",
       "3                         0.0  1.927371e+09    10.0                353.0   \n",
       "4                         0.0  1.874468e+09    39.0                401.0   \n",
       "\n",
       "   Police space  year  Cluster Local Authorities  \n",
       "0    15000597.0  2018                        0.0  \n",
       "1    10002475.0  2018                        0.0  \n",
       "2    10004333.0  2018                        0.0  \n",
       "3    10004261.0  2018                        0.0  \n",
       "4    15000060.0  2018                        0.0  \n",
       "\n",
       "[5 rows x 85 columns]"
      ]
     },
     "execution_count": 11,
     "metadata": {},
     "output_type": "execute_result"
    }
   ],
   "source": [
    "expcheb.head()"
   ]
  },
  {
   "cell_type": "code",
   "execution_count": 12,
   "metadata": {},
   "outputs": [],
   "source": [
    "expcheb2 = pd.read_csv(\"generated/expcheb2.csv\")"
   ]
  },
  {
   "cell_type": "code",
   "execution_count": 13,
   "metadata": {},
   "outputs": [],
   "source": [
    "expcheb3 = pd.read_csv(\"generated/expcheb3.csv\")"
   ]
  },
  {
   "cell_type": "markdown",
   "metadata": {},
   "source": [
    "#### merging tables 21 22 23\n",
    "\n",
    "we decided to merege all the tables together to get a general understanding of the parties and votes over the 3 elections as the the merged data will be used in the clustering algorithms"
   ]
  },
  {
   "cell_type": "code",
   "execution_count": 14,
   "metadata": {},
   "outputs": [],
   "source": [
    "data = expcheb.append(expcheb2, ignore_index = True).append(expcheb3, ignore_index = True)\n",
    "data = drop_cols(data)"
   ]
  },
  {
   "cell_type": "code",
   "execution_count": 15,
   "metadata": {},
   "outputs": [
    {
     "data": {
      "text/html": [
       "<div>\n",
       "<style scoped>\n",
       "    .dataframe tbody tr th:only-of-type {\n",
       "        vertical-align: middle;\n",
       "    }\n",
       "\n",
       "    .dataframe tbody tr th {\n",
       "        vertical-align: top;\n",
       "    }\n",
       "\n",
       "    .dataframe thead th {\n",
       "        text-align: right;\n",
       "    }\n",
       "</style>\n",
       "<table border=\"1\" class=\"dataframe\">\n",
       "  <thead>\n",
       "    <tr style=\"text-align: right;\">\n",
       "      <th></th>\n",
       "      <th>sSymbol</th>\n",
       "      <th>eligble voters</th>\n",
       "      <th>voters</th>\n",
       "      <th>droped</th>\n",
       "      <th>valid</th>\n",
       "      <th>1</th>\n",
       "      <th>2</th>\n",
       "      <th>3</th>\n",
       "      <th>4</th>\n",
       "      <th>5</th>\n",
       "      <th>...</th>\n",
       "      <th>59</th>\n",
       "      <th>60</th>\n",
       "      <th>district</th>\n",
       "      <th>Municipal status</th>\n",
       "      <th>religion</th>\n",
       "      <th>Total Population 2018</th>\n",
       "      <th>Jews and others</th>\n",
       "      <th>Thereof: Jews</th>\n",
       "      <th>Arabs</th>\n",
       "      <th>Current type of locality</th>\n",
       "    </tr>\n",
       "  </thead>\n",
       "  <tbody>\n",
       "    <tr>\n",
       "      <th>0</th>\n",
       "      <td>10</td>\n",
       "      <td>333</td>\n",
       "      <td>237</td>\n",
       "      <td>2</td>\n",
       "      <td>235</td>\n",
       "      <td>0</td>\n",
       "      <td>6</td>\n",
       "      <td>9</td>\n",
       "      <td>0</td>\n",
       "      <td>0</td>\n",
       "      <td>...</td>\n",
       "      <td>0</td>\n",
       "      <td>0</td>\n",
       "      <td>1</td>\n",
       "      <td>26.0</td>\n",
       "      <td>1.0</td>\n",
       "      <td>501.0</td>\n",
       "      <td>501.0</td>\n",
       "      <td>500.0</td>\n",
       "      <td>0.0</td>\n",
       "      <td>310</td>\n",
       "    </tr>\n",
       "    <tr>\n",
       "      <th>1</th>\n",
       "      <td>1015</td>\n",
       "      <td>18871</td>\n",
       "      <td>13883</td>\n",
       "      <td>37</td>\n",
       "      <td>13846</td>\n",
       "      <td>0</td>\n",
       "      <td>2161</td>\n",
       "      <td>557</td>\n",
       "      <td>1</td>\n",
       "      <td>0</td>\n",
       "      <td>...</td>\n",
       "      <td>0</td>\n",
       "      <td>0</td>\n",
       "      <td>1</td>\n",
       "      <td>99.0</td>\n",
       "      <td>1.0</td>\n",
       "      <td>23962.0</td>\n",
       "      <td>23864.0</td>\n",
       "      <td>23114.0</td>\n",
       "      <td>98.0</td>\n",
       "      <td>160</td>\n",
       "    </tr>\n",
       "    <tr>\n",
       "      <th>2</th>\n",
       "      <td>102</td>\n",
       "      <td>106</td>\n",
       "      <td>54</td>\n",
       "      <td>0</td>\n",
       "      <td>54</td>\n",
       "      <td>0</td>\n",
       "      <td>11</td>\n",
       "      <td>4</td>\n",
       "      <td>0</td>\n",
       "      <td>0</td>\n",
       "      <td>...</td>\n",
       "      <td>0</td>\n",
       "      <td>0</td>\n",
       "      <td>3</td>\n",
       "      <td>15.0</td>\n",
       "      <td>1.0</td>\n",
       "      <td>286.0</td>\n",
       "      <td>248.0</td>\n",
       "      <td>187.0</td>\n",
       "      <td>38.0</td>\n",
       "      <td>340</td>\n",
       "    </tr>\n",
       "    <tr>\n",
       "      <th>3</th>\n",
       "      <td>1020</td>\n",
       "      <td>15520</td>\n",
       "      <td>9773</td>\n",
       "      <td>72</td>\n",
       "      <td>9701</td>\n",
       "      <td>0</td>\n",
       "      <td>323</td>\n",
       "      <td>499</td>\n",
       "      <td>0</td>\n",
       "      <td>0</td>\n",
       "      <td>...</td>\n",
       "      <td>1</td>\n",
       "      <td>0</td>\n",
       "      <td>3</td>\n",
       "      <td>0.0</td>\n",
       "      <td>1.0</td>\n",
       "      <td>18236.0</td>\n",
       "      <td>18143.0</td>\n",
       "      <td>16787.0</td>\n",
       "      <td>93.0</td>\n",
       "      <td>170</td>\n",
       "    </tr>\n",
       "    <tr>\n",
       "      <th>4</th>\n",
       "      <td>1024</td>\n",
       "      <td>584</td>\n",
       "      <td>442</td>\n",
       "      <td>3</td>\n",
       "      <td>439</td>\n",
       "      <td>0</td>\n",
       "      <td>72</td>\n",
       "      <td>13</td>\n",
       "      <td>0</td>\n",
       "      <td>0</td>\n",
       "      <td>...</td>\n",
       "      <td>0</td>\n",
       "      <td>0</td>\n",
       "      <td>4</td>\n",
       "      <td>19.0</td>\n",
       "      <td>1.0</td>\n",
       "      <td>866.0</td>\n",
       "      <td>866.0</td>\n",
       "      <td>859.0</td>\n",
       "      <td>0.0</td>\n",
       "      <td>350</td>\n",
       "    </tr>\n",
       "  </tbody>\n",
       "</table>\n",
       "<p>5 rows × 73 columns</p>\n",
       "</div>"
      ],
      "text/plain": [
       "   sSymbol  eligble voters  voters  droped  valid  1     2    3  4  5  ...  \\\n",
       "0       10             333     237       2    235  0     6    9  0  0  ...   \n",
       "1     1015           18871   13883      37  13846  0  2161  557  1  0  ...   \n",
       "2      102             106      54       0     54  0    11    4  0  0  ...   \n",
       "3     1020           15520    9773      72   9701  0   323  499  0  0  ...   \n",
       "4     1024             584     442       3    439  0    72   13  0  0  ...   \n",
       "\n",
       "   59  60  district  Municipal status  religion  Total Population 2018  \\\n",
       "0   0   0         1              26.0       1.0                  501.0   \n",
       "1   0   0         1              99.0       1.0                23962.0   \n",
       "2   0   0         3              15.0       1.0                  286.0   \n",
       "3   1   0         3               0.0       1.0                18236.0   \n",
       "4   0   0         4              19.0       1.0                  866.0   \n",
       "\n",
       "   Jews and others  Thereof: Jews  Arabs  Current type of locality  \n",
       "0            501.0          500.0    0.0                       310  \n",
       "1          23864.0        23114.0   98.0                       160  \n",
       "2            248.0          187.0   38.0                       340  \n",
       "3          18143.0        16787.0   93.0                       170  \n",
       "4            866.0          859.0    0.0                       350  \n",
       "\n",
       "[5 rows x 73 columns]"
      ]
     },
     "execution_count": 15,
     "metadata": {},
     "output_type": "execute_result"
    }
   ],
   "source": [
    "data.head()"
   ]
  },
  {
   "cell_type": "markdown",
   "metadata": {},
   "source": [
    "## data preprocessing\n",
    "\n",
    "we decided to group the parties to it's relevant lenaing, the reasoning behind is to the have a more clear view about what the voters, settlement leaning whether be it left, center or right."
   ]
  },
  {
   "cell_type": "code",
   "execution_count": 16,
   "metadata": {},
   "outputs": [
    {
     "data": {
      "text/html": [
       "<div>\n",
       "<style scoped>\n",
       "    .dataframe tbody tr th:only-of-type {\n",
       "        vertical-align: middle;\n",
       "    }\n",
       "\n",
       "    .dataframe tbody tr th {\n",
       "        vertical-align: top;\n",
       "    }\n",
       "\n",
       "    .dataframe thead th {\n",
       "        text-align: right;\n",
       "    }\n",
       "</style>\n",
       "<table border=\"1\" class=\"dataframe\">\n",
       "  <thead>\n",
       "    <tr style=\"text-align: right;\">\n",
       "      <th></th>\n",
       "      <th>sSymbol</th>\n",
       "      <th>Center Leaning</th>\n",
       "      <th>Left Leaning</th>\n",
       "      <th>Right Leaning</th>\n",
       "      <th>district</th>\n",
       "      <th>Municipal status</th>\n",
       "      <th>religion</th>\n",
       "      <th>Total Population 2018</th>\n",
       "      <th>Jews and others</th>\n",
       "      <th>Thereof: Jews</th>\n",
       "      <th>Arabs</th>\n",
       "      <th>Current type of locality</th>\n",
       "    </tr>\n",
       "  </thead>\n",
       "  <tbody>\n",
       "    <tr>\n",
       "      <th>0</th>\n",
       "      <td>10</td>\n",
       "      <td>5.0</td>\n",
       "      <td>6.0</td>\n",
       "      <td>223.0</td>\n",
       "      <td>1</td>\n",
       "      <td>26.0</td>\n",
       "      <td>1.0</td>\n",
       "      <td>501.0</td>\n",
       "      <td>501.0</td>\n",
       "      <td>500.0</td>\n",
       "      <td>0.0</td>\n",
       "      <td>310</td>\n",
       "    </tr>\n",
       "    <tr>\n",
       "      <th>1</th>\n",
       "      <td>1015</td>\n",
       "      <td>4316.0</td>\n",
       "      <td>2187.0</td>\n",
       "      <td>7001.0</td>\n",
       "      <td>1</td>\n",
       "      <td>99.0</td>\n",
       "      <td>1.0</td>\n",
       "      <td>23962.0</td>\n",
       "      <td>23864.0</td>\n",
       "      <td>23114.0</td>\n",
       "      <td>98.0</td>\n",
       "      <td>160</td>\n",
       "    </tr>\n",
       "    <tr>\n",
       "      <th>2</th>\n",
       "      <td>102</td>\n",
       "      <td>19.0</td>\n",
       "      <td>11.0</td>\n",
       "      <td>22.0</td>\n",
       "      <td>3</td>\n",
       "      <td>15.0</td>\n",
       "      <td>1.0</td>\n",
       "      <td>286.0</td>\n",
       "      <td>248.0</td>\n",
       "      <td>187.0</td>\n",
       "      <td>38.0</td>\n",
       "      <td>340</td>\n",
       "    </tr>\n",
       "    <tr>\n",
       "      <th>3</th>\n",
       "      <td>1020</td>\n",
       "      <td>1227.0</td>\n",
       "      <td>356.0</td>\n",
       "      <td>7773.0</td>\n",
       "      <td>3</td>\n",
       "      <td>0.0</td>\n",
       "      <td>1.0</td>\n",
       "      <td>18236.0</td>\n",
       "      <td>18143.0</td>\n",
       "      <td>16787.0</td>\n",
       "      <td>93.0</td>\n",
       "      <td>170</td>\n",
       "    </tr>\n",
       "    <tr>\n",
       "      <th>4</th>\n",
       "      <td>1024</td>\n",
       "      <td>180.0</td>\n",
       "      <td>76.0</td>\n",
       "      <td>173.0</td>\n",
       "      <td>4</td>\n",
       "      <td>19.0</td>\n",
       "      <td>1.0</td>\n",
       "      <td>866.0</td>\n",
       "      <td>866.0</td>\n",
       "      <td>859.0</td>\n",
       "      <td>0.0</td>\n",
       "      <td>350</td>\n",
       "    </tr>\n",
       "  </tbody>\n",
       "</table>\n",
       "</div>"
      ],
      "text/plain": [
       "   sSymbol  Center Leaning  Left Leaning  Right Leaning  district  \\\n",
       "0       10             5.0           6.0          223.0         1   \n",
       "1     1015          4316.0        2187.0         7001.0         1   \n",
       "2      102            19.0          11.0           22.0         3   \n",
       "3     1020          1227.0         356.0         7773.0         3   \n",
       "4     1024           180.0          76.0          173.0         4   \n",
       "\n",
       "   Municipal status  religion  Total Population 2018  Jews and others  \\\n",
       "0              26.0       1.0                  501.0            501.0   \n",
       "1              99.0       1.0                23962.0          23864.0   \n",
       "2              15.0       1.0                  286.0            248.0   \n",
       "3               0.0       1.0                18236.0          18143.0   \n",
       "4              19.0       1.0                  866.0            866.0   \n",
       "\n",
       "   Thereof: Jews  Arabs  Current type of locality  \n",
       "0          500.0    0.0                       310  \n",
       "1        23114.0   98.0                       160  \n",
       "2          187.0   38.0                       340  \n",
       "3        16787.0   93.0                       170  \n",
       "4          859.0    0.0                       350  "
      ]
     },
     "execution_count": 16,
     "metadata": {},
     "output_type": "execute_result"
    }
   ],
   "source": [
    "## grouping each party to its political idiology and leaning right left or center\n",
    "groupings = {\n",
    "                'נ':'Right Leaning', \n",
    "                'ז':'Right Leaning',\n",
    "                'זך':'Right Leaning',\n",
    "                'ל':'Right Leaning',\n",
    "                'ג':'Right Leaning', \n",
    "                'ףץ':'Right Leaning',\n",
    "                'קי':'Right Leaning',\n",
    "                'יץ':'Right Leaning',\n",
    "                'יז':'Right Leaning',\n",
    "                'כ':'Right Leaning',\n",
    "                'מחל':'Right Leaning',\n",
    "                'זץ':'Right Leaning',\n",
    "                'טב':'Right Leaning',\n",
    "                'שס':'Right Leaning',\n",
    "                'זנ':'Right Leaning',\n",
    "                'ץ':'Center Leaning',\n",
    "                'קן':'Center Leaning',\n",
    "                'נץ':'Center Leaning',\n",
    "                'קף':'Center Leaning',\n",
    "                'נר':'Center Leaning',\n",
    "                'ץי':'Center Leaning',\n",
    "                'פה':'Center Leaning',\n",
    "                'זי':'Center Leaning',\n",
    "                'ףך':'Center Leaning',\n",
    "                'ךק':'Center Leaning',\n",
    "                'ן':'Left Leaning',\n",
    "                'ין':'Left Leaning',\n",
    "                'ק':'Left Leaning',\n",
    "                'צק':'Left Leaning',\n",
    "                'י':'Left Leaning',\n",
    "                'ףז':'Left Leaning',\n",
    "                'ףי':'Left Leaning',\n",
    "                'ןנ':'Left Leaning',\n",
    "                'נז':'Left Leaning',\n",
    "                'ןך':'Left Leaning',\n",
    "                'ףנ':'Left Leaning',\n",
    "                'ץז':'Left Leaning',\n",
    "                'ר':'Left Leaning',\n",
    "                'אמת':'Left Leaning',\n",
    "                'נך':'Left Leaning',\n",
    "                'מרצ':'Left Leaning',\n",
    "                'דעם':'Left Leaning',\n",
    "                'ום':'Left Leaning'\n",
    "               }\n",
    "\n",
    "new_grouping = dict()\n",
    "for v, k in groupings.items():\n",
    "    new_grouping[str(word2lbl[v])] = k\n",
    "    \n",
    "df = data.groupby(new_grouping, axis = 1).sum() #.reset_index()\n",
    "data = pd.concat([data.sSymbol, df, data.iloc[:,65:]], axis=1)\n",
    "del df\n",
    "data.head()"
   ]
  },
  {
   "cell_type": "markdown",
   "metadata": {},
   "source": [
    "### GMM"
   ]
  },
  {
   "cell_type": "code",
   "execution_count": 17,
   "metadata": {},
   "outputs": [],
   "source": [
    "gmm = GaussianMixture(n_components=4).fit(data)\n",
    "labels = gmm.predict(data)"
   ]
  },
  {
   "cell_type": "markdown",
   "metadata": {},
   "source": [
    "#### Plot by District Number"
   ]
  },
  {
   "cell_type": "code",
   "execution_count": 18,
   "metadata": {
    "scrolled": false
   },
   "outputs": [
    {
     "data": {
      "image/png": "[encoded data removed]",
      "text/plain": [
       "<Figure size 432x288 with 1 Axes>"
      ]
     },
     "metadata": {
      "needs_background": "light"
     },
     "output_type": "display_data"
    },
    {
     "data": {
      "image/png": "[encoded data removed]",
      "text/plain": [
       "<Figure size 432x288 with 1 Axes>"
      ]
     },
     "metadata": {
      "needs_background": "light"
     },
     "output_type": "display_data"
    },
    {
     "data": {
      "image/png": "[encoded data removed]",
      "text/plain": [
       "<Figure size 432x288 with 1 Axes>"
      ]
     },
     "metadata": {
      "needs_background": "light"
     },
     "output_type": "display_data"
    }
   ],
   "source": [
    "plt.figure(1)\n",
    "plt.scatter(data[\"Current type of locality\"], data[\"Center Leaning\"] , c=labels, s=50, cmap='viridis');\n",
    "plt.title('Vote count for Center Leaning Parties')\n",
    "plt.xlabel('Type of locality Number')\n",
    "plt.ylabel('Votes')\n",
    "plt.show()\n",
    "\n",
    "\n",
    "plt.figure(2)\n",
    "plt.scatter(data[\"Current type of locality\"], data[\"Left Leaning\"] , c=labels, s=50, cmap='viridis');\n",
    "plt.title('Vote count for Left Leaning Parties')\n",
    "plt.xlabel('Type of locality Number')\n",
    "plt.ylabel('Votes')\n",
    "plt.show()\n",
    "\n",
    "\n",
    "plt.figure(3)\n",
    "plt.scatter(data[\"Current type of locality\"], data[\"Right Leaning\"] , c=labels, s=50, cmap='viridis');\n",
    "plt.title('Vote count for Right Leaning Parties')\n",
    "plt.xlabel('Type of locality Number')\n",
    "plt.ylabel('Votes')\n",
    "plt.show()\n"
   ]
  },
  {
   "cell_type": "markdown",
   "metadata": {},
   "source": [
    "#### Plot by Religion Number"
   ]
  },
  {
   "cell_type": "code",
   "execution_count": 19,
   "metadata": {
    "scrolled": false
   },
   "outputs": [
    {
     "data": {
      "image/png": "[encoded data removed]",
      "text/plain": [
       "<Figure size 432x288 with 1 Axes>"
      ]
     },
     "metadata": {
      "needs_background": "light"
     },
     "output_type": "display_data"
    },
    {
     "data": {
      "image/png": "[encoded data removed]",
      "text/plain": [
       "<Figure size 432x288 with 1 Axes>"
      ]
     },
     "metadata": {
      "needs_background": "light"
     },
     "output_type": "display_data"
    },
    {
     "data": {
      "image/png": "[encoded data removed]",
      "text/plain": [
       "<Figure size 432x288 with 1 Axes>"
      ]
     },
     "metadata": {
      "needs_background": "light"
     },
     "output_type": "display_data"
    }
   ],
   "source": [
    "plt.figure(4)\n",
    "plt.scatter(data[\"religion\"], data[\"Right Leaning\"] , c=labels, s=50, cmap='viridis');\n",
    "plt.title('Vote count for Right Leaning Parties')\n",
    "plt.xlabel('Religion Number')\n",
    "plt.ylabel('Votes')\n",
    "plt.show()\n",
    "\n",
    "plt.figure(5)\n",
    "plt.scatter(data[\"religion\"], data[\"Left Leaning\"] , c=labels, s=50, cmap='viridis');\n",
    "plt.title('Vote count for Left Leaning Parties')\n",
    "plt.xlabel('Religion Number')\n",
    "plt.ylabel('Votes')\n",
    "plt.show()\n",
    "\n",
    "\n",
    "plt.figure(6)\n",
    "plt.scatter(data[\"religion\"], data[\"Center Leaning\"] , c=labels, s=50, cmap='viridis');\n",
    "plt.title('Vote count for Center Leaning Parties')\n",
    "plt.xlabel('Religion Number')\n",
    "plt.ylabel('Votes')\n",
    "plt.show()\n"
   ]
  },
  {
   "cell_type": "markdown",
   "metadata": {},
   "source": [
    "### KMeans"
   ]
  },
  {
   "cell_type": "code",
   "execution_count": 20,
   "metadata": {},
   "outputs": [
    {
     "data": {
      "image/png": "[encoded data removed]",
      "text/plain": [
       "<Figure size 432x288 with 1 Axes>"
      ]
     },
     "metadata": {
      "needs_background": "light"
     },
     "output_type": "display_data"
    }
   ],
   "source": [
    "# draw elbow graph to obtain the best possible K\n",
    "draw_elbow(data)"
   ]
  },
  {
   "cell_type": "code",
   "execution_count": 21,
   "metadata": {},
   "outputs": [],
   "source": [
    "kmeans = KMeans(4, random_state=0)\n",
    "labels = kmeans.fit(data).predict(data)"
   ]
  },
  {
   "cell_type": "markdown",
   "metadata": {},
   "source": [
    "#### Plot by District Number"
   ]
  },
  {
   "cell_type": "code",
   "execution_count": 22,
   "metadata": {
    "scrolled": true
   },
   "outputs": [
    {
     "data": {
      "image/png": "[encoded data removed]",
      "text/plain": [
       "<Figure size 432x288 with 1 Axes>"
      ]
     },
     "metadata": {
      "needs_background": "light"
     },
     "output_type": "display_data"
    },
    {
     "data": {
      "image/png": "[encoded data removed]",
      "text/plain": [
       "<Figure size 432x288 with 1 Axes>"
      ]
     },
     "metadata": {
      "needs_background": "light"
     },
     "output_type": "display_data"
    },
    {
     "data": {
      "image/png": "[encoded data removed]",
      "text/plain": [
       "<Figure size 432x288 with 1 Axes>"
      ]
     },
     "metadata": {
      "needs_background": "light"
     },
     "output_type": "display_data"
    }
   ],
   "source": [
    "plt.figure(7)\n",
    "plt.scatter(data[\"Current type of locality\"], data[\"Center Leaning\"] , c=labels, s=50, cmap='viridis');\n",
    "plt.title('Vote count for Center Leaning Parties')\n",
    "plt.xlabel('Type of locality Number')\n",
    "plt.ylabel('Votes')\n",
    "plt.show()\n",
    "\n",
    "\n",
    "plt.figure(8)\n",
    "plt.scatter(data[\"Current type of locality\"], data[\"Left Leaning\"] , c=labels, s=50, cmap='viridis');\n",
    "plt.title('Vote count for Left Leaning Parties')\n",
    "plt.xlabel('Type of locality Number')\n",
    "plt.ylabel('Votes')\n",
    "plt.show()\n",
    "\n",
    "\n",
    "plt.figure(9)\n",
    "plt.scatter(data[\"Current type of locality\"], data[\"Right Leaning\"] , c=labels, s=50, cmap='viridis');\n",
    "plt.title('Vote count for Right Leaning Parties')\n",
    "plt.xlabel('Type of locality Number')\n",
    "plt.ylabel('Votes')\n",
    "plt.show()"
   ]
  },
  {
   "cell_type": "markdown",
   "metadata": {},
   "source": [
    "#### Plot by Religion Number"
   ]
  },
  {
   "cell_type": "code",
   "execution_count": 23,
   "metadata": {
    "scrolled": true
   },
   "outputs": [
    {
     "data": {
      "image/png": "[encoded data removed]",
      "text/plain": [
       "<Figure size 432x288 with 1 Axes>"
      ]
     },
     "metadata": {
      "needs_background": "light"
     },
     "output_type": "display_data"
    },
    {
     "data": {
      "image/png": "[encoded data removed]",
      "text/plain": [
       "<Figure size 432x288 with 1 Axes>"
      ]
     },
     "metadata": {
      "needs_background": "light"
     },
     "output_type": "display_data"
    },
    {
     "data": {
      "image/png": "[encoded data removed]",
      "text/plain": [
       "<Figure size 432x288 with 1 Axes>"
      ]
     },
     "metadata": {
      "needs_background": "light"
     },
     "output_type": "display_data"
    }
   ],
   "source": [
    "plt.figure(10)\n",
    "plt.scatter(data[\"religion\"], data[\"Right Leaning\"] , c=labels, s=50, cmap='viridis');\n",
    "plt.title('Vote count for Right Leaning Parties')\n",
    "plt.xlabel('Religion Number')\n",
    "plt.ylabel('Votes')\n",
    "plt.show()\n",
    "\n",
    "plt.figure(11)\n",
    "plt.scatter(data[\"religion\"], data[\"Left Leaning\"] , c=labels, s=50, cmap='viridis');\n",
    "plt.title('Vote count for Left Leaning Parties')\n",
    "plt.xlabel('Religion Number')\n",
    "plt.ylabel('Votes')\n",
    "plt.show()\n",
    "\n",
    "\n",
    "plt.figure(12)\n",
    "plt.scatter(data[\"religion\"], data[\"Center Leaning\"] , c=labels, s=50, cmap='viridis');\n",
    "plt.title('Vote count for Center Leaning Parties')\n",
    "plt.xlabel('Religion Number')\n",
    "plt.ylabel('Votes')\n",
    "plt.show()\n"
   ]
  },
  {
   "cell_type": "markdown",
   "metadata": {},
   "source": [
    "## Observations\n",
    "\n",
    "1) When observing the left leaning parties graphs we see that they have a much higher vote counts localities types between 250-300, when checking the mapping for the values of localities and their number we can see that they refence none Jewish localities, while right and center leaning parties has gornered more votes from the localities that represnt the Jewish community as the votes distribuion lies between localities of 100-200. \n",
    "\n",
    "2) Working with group parties by their leaning instead of invidiual parties produced similar results betwwen Kmeans and GMM. In this case there isn't any preffered model to use between thme especialy when using the elbow method to get the optimal K to try and produce better results.\n",
    "    \n",
    "3) When observing the religeon to party leaning graphs we can see that left leaning parties get more votes from releon category 2 which is according to its mapping non-jewish as center and right leaning get more votes from 1, 3, 4 which jewish and Bewim or both"
   ]
  }
 ],
 "metadata": {
  "kernelspec": {
   "display_name": "Python 3",
   "language": "python",
   "name": "python3"
  },
  "language_info": {
   "codemirror_mode": {
    "name": "ipython",
    "version": 3
   },
   "file_extension": ".py",
   "mimetype": "text/x-python",
   "name": "python",
   "nbconvert_exporter": "python",
   "pygments_lexer": "ipython3",
   "version": "3.7.6"
  }
 },
 "nbformat": 4,
 "nbformat_minor": 4
}
