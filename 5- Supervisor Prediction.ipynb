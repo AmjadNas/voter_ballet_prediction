{
 "cells": [
  {
   "cell_type": "code",
   "execution_count": 1,
   "metadata": {},
   "outputs": [],
   "source": [
    "import numpy as np\n",
    "import pandas as pd\n",
    "from sklearn.ensemble import RandomForestRegressor\n",
    "from sklearn.model_selection import RandomizedSearchCV, GridSearchCV\n",
    "from sklearn import metrics\n",
    "import json\n",
    "\n",
    "def load_from_disk(name):\n",
    "    try:\n",
    "        with open(name, 'r') as f:\n",
    "            tree = json.load(f)\n",
    "            return tree\n",
    "    except:\n",
    "        return None"
   ]
  },
  {
   "cell_type": "markdown",
   "metadata": {},
   "source": [
    "# Important\n",
    "\n",
    "we used the Random Forest model for the prediction as it yielded much more accurate results than Adaboost according to the MSE metric. you can view the Adaboost model expirenmt in the file Adaboost-Q6-expr.\n",
    "\n",
    "Ib the classification part we used the default scoring value in RandomForestClassifier which is \"gini\" and used the other grid_params and applied GridSearchCV on the classifier which yeilded a 99.31% accuracy."
   ]
  },
  {
   "cell_type": "code",
   "execution_count": 2,
   "metadata": {},
   "outputs": [],
   "source": [
    "lbl2word = load_from_disk(\"generated/lbl2word.json\")\n",
    "word2lbl = load_from_disk(\"generated/word2lbl.json\")\n",
    "symbol2name = load_from_disk(\"generated/symbol2name.json\")\n",
    "name2symbol = load_from_disk(\"generated/name2symbol.json\")"
   ]
  },
  {
   "cell_type": "code",
   "execution_count": 3,
   "metadata": {},
   "outputs": [],
   "source": [
    "expcheb = pd.read_csv(\"generated/expcheb.csv\")"
   ]
  },
  {
   "cell_type": "code",
   "execution_count": 4,
   "metadata": {},
   "outputs": [
    {
     "data": {
      "text/html": [
       "<div>\n",
       "<style scoped>\n",
       "    .dataframe tbody tr th:only-of-type {\n",
       "        vertical-align: middle;\n",
       "    }\n",
       "\n",
       "    .dataframe tbody tr th {\n",
       "        vertical-align: top;\n",
       "    }\n",
       "\n",
       "    .dataframe thead th {\n",
       "        text-align: right;\n",
       "    }\n",
       "</style>\n",
       "<table border=\"1\" class=\"dataframe\">\n",
       "  <thead>\n",
       "    <tr style=\"text-align: right;\">\n",
       "      <th></th>\n",
       "      <th>sName</th>\n",
       "      <th>sSymbol</th>\n",
       "      <th>eligble voters</th>\n",
       "      <th>voters</th>\n",
       "      <th>droped</th>\n",
       "      <th>valid</th>\n",
       "      <th>1</th>\n",
       "      <th>2</th>\n",
       "      <th>3</th>\n",
       "      <th>4</th>\n",
       "      <th>...</th>\n",
       "      <th>Arabs</th>\n",
       "      <th>Founding year</th>\n",
       "      <th>Current type of locality</th>\n",
       "      <th>Organizational affiliation</th>\n",
       "      <th>Coordinates</th>\n",
       "      <th>height</th>\n",
       "      <th>Planning Commission</th>\n",
       "      <th>Police space</th>\n",
       "      <th>year</th>\n",
       "      <th>Cluster Local Authorities</th>\n",
       "    </tr>\n",
       "  </thead>\n",
       "  <tbody>\n",
       "    <tr>\n",
       "      <th>0</th>\n",
       "      <td>Tirosh</td>\n",
       "      <td>10</td>\n",
       "      <td>333</td>\n",
       "      <td>237</td>\n",
       "      <td>2</td>\n",
       "      <td>235</td>\n",
       "      <td>0</td>\n",
       "      <td>6</td>\n",
       "      <td>9</td>\n",
       "      <td>0</td>\n",
       "      <td>...</td>\n",
       "      <td>0.0</td>\n",
       "      <td>1955</td>\n",
       "      <td>310</td>\n",
       "      <td>2.0</td>\n",
       "      <td>1.892863e+09</td>\n",
       "      <td>130.0</td>\n",
       "      <td>151.0</td>\n",
       "      <td>15000597.0</td>\n",
       "      <td>2018</td>\n",
       "      <td>0.0</td>\n",
       "    </tr>\n",
       "    <tr>\n",
       "      <th>1</th>\n",
       "      <td>Mevasseret Ziyyon</td>\n",
       "      <td>1015</td>\n",
       "      <td>18871</td>\n",
       "      <td>13883</td>\n",
       "      <td>37</td>\n",
       "      <td>13846</td>\n",
       "      <td>0</td>\n",
       "      <td>2161</td>\n",
       "      <td>557</td>\n",
       "      <td>1</td>\n",
       "      <td>...</td>\n",
       "      <td>98.0</td>\n",
       "      <td>1951</td>\n",
       "      <td>160</td>\n",
       "      <td>0.0</td>\n",
       "      <td>2.144363e+09</td>\n",
       "      <td>583.0</td>\n",
       "      <td>152.0</td>\n",
       "      <td>10002475.0</td>\n",
       "      <td>2018</td>\n",
       "      <td>0.0</td>\n",
       "    </tr>\n",
       "    <tr>\n",
       "      <th>2</th>\n",
       "      <td>Me'ir Shefeya</td>\n",
       "      <td>102</td>\n",
       "      <td>106</td>\n",
       "      <td>54</td>\n",
       "      <td>0</td>\n",
       "      <td>54</td>\n",
       "      <td>0</td>\n",
       "      <td>11</td>\n",
       "      <td>4</td>\n",
       "      <td>0</td>\n",
       "      <td>...</td>\n",
       "      <td>38.0</td>\n",
       "      <td>1923</td>\n",
       "      <td>340</td>\n",
       "      <td>0.0</td>\n",
       "      <td>1.975772e+09</td>\n",
       "      <td>63.0</td>\n",
       "      <td>303.0</td>\n",
       "      <td>10004333.0</td>\n",
       "      <td>2018</td>\n",
       "      <td>0.0</td>\n",
       "    </tr>\n",
       "    <tr>\n",
       "      <th>3</th>\n",
       "      <td>Or Aqiva</td>\n",
       "      <td>1020</td>\n",
       "      <td>15520</td>\n",
       "      <td>9773</td>\n",
       "      <td>72</td>\n",
       "      <td>9701</td>\n",
       "      <td>0</td>\n",
       "      <td>323</td>\n",
       "      <td>499</td>\n",
       "      <td>0</td>\n",
       "      <td>...</td>\n",
       "      <td>93.0</td>\n",
       "      <td>1951</td>\n",
       "      <td>170</td>\n",
       "      <td>0.0</td>\n",
       "      <td>1.927371e+09</td>\n",
       "      <td>10.0</td>\n",
       "      <td>353.0</td>\n",
       "      <td>10004261.0</td>\n",
       "      <td>2018</td>\n",
       "      <td>0.0</td>\n",
       "    </tr>\n",
       "    <tr>\n",
       "      <th>4</th>\n",
       "      <td>Haruzim</td>\n",
       "      <td>1024</td>\n",
       "      <td>584</td>\n",
       "      <td>442</td>\n",
       "      <td>3</td>\n",
       "      <td>439</td>\n",
       "      <td>0</td>\n",
       "      <td>72</td>\n",
       "      <td>13</td>\n",
       "      <td>0</td>\n",
       "      <td>...</td>\n",
       "      <td>0.0</td>\n",
       "      <td>1951</td>\n",
       "      <td>350</td>\n",
       "      <td>0.0</td>\n",
       "      <td>1.874468e+09</td>\n",
       "      <td>39.0</td>\n",
       "      <td>401.0</td>\n",
       "      <td>15000060.0</td>\n",
       "      <td>2018</td>\n",
       "      <td>0.0</td>\n",
       "    </tr>\n",
       "  </tbody>\n",
       "</table>\n",
       "<p>5 rows × 85 columns</p>\n",
       "</div>"
      ],
      "text/plain": [
       "               sName  sSymbol  eligble voters  voters  droped  valid  1     2  \\\n",
       "0             Tirosh       10             333     237       2    235  0     6   \n",
       "1  Mevasseret Ziyyon     1015           18871   13883      37  13846  0  2161   \n",
       "2      Me'ir Shefeya      102             106      54       0     54  0    11   \n",
       "3           Or Aqiva     1020           15520    9773      72   9701  0   323   \n",
       "4            Haruzim     1024             584     442       3    439  0    72   \n",
       "\n",
       "     3  4  ...  Arabs  Founding year  Current type of locality  \\\n",
       "0    9  0  ...    0.0           1955                       310   \n",
       "1  557  1  ...   98.0           1951                       160   \n",
       "2    4  0  ...   38.0           1923                       340   \n",
       "3  499  0  ...   93.0           1951                       170   \n",
       "4   13  0  ...    0.0           1951                       350   \n",
       "\n",
       "   Organizational affiliation   Coordinates  height  Planning Commission  \\\n",
       "0                         2.0  1.892863e+09   130.0                151.0   \n",
       "1                         0.0  2.144363e+09   583.0                152.0   \n",
       "2                         0.0  1.975772e+09    63.0                303.0   \n",
       "3                         0.0  1.927371e+09    10.0                353.0   \n",
       "4                         0.0  1.874468e+09    39.0                401.0   \n",
       "\n",
       "   Police space  year  Cluster Local Authorities  \n",
       "0    15000597.0  2018                        0.0  \n",
       "1    10002475.0  2018                        0.0  \n",
       "2    10004333.0  2018                        0.0  \n",
       "3    10004261.0  2018                        0.0  \n",
       "4    15000060.0  2018                        0.0  \n",
       "\n",
       "[5 rows x 85 columns]"
      ]
     },
     "execution_count": 4,
     "metadata": {},
     "output_type": "execute_result"
    }
   ],
   "source": [
    "expcheb.head()"
   ]
  },
  {
   "cell_type": "code",
   "execution_count": 5,
   "metadata": {},
   "outputs": [],
   "source": [
    "expcheb2 = pd.read_csv(\"generated/expcheb2.csv\")"
   ]
  },
  {
   "cell_type": "code",
   "execution_count": 6,
   "metadata": {},
   "outputs": [],
   "source": [
    "expcheb3 = pd.read_csv(\"generated/expcheb3.csv\")"
   ]
  },
  {
   "cell_type": "code",
   "execution_count": 7,
   "metadata": {},
   "outputs": [],
   "source": [
    "data = expcheb.append(expcheb2, ignore_index=True)"
   ]
  },
  {
   "cell_type": "code",
   "execution_count": 8,
   "metadata": {},
   "outputs": [],
   "source": [
    "del expcheb2\n",
    "del expcheb"
   ]
  },
  {
   "cell_type": "code",
   "execution_count": 9,
   "metadata": {},
   "outputs": [],
   "source": [
    "def drop_cols(data):\n",
    "    cols = [\"sName\", \"voters\", \"valid\", \"droped\", \"subdistrict\", \"Natural area\", \"Metropolitan affiliation\", \"Founding year\", \"Organizational affiliation\", \"Coordinates\", \"height\", \"Planning Commission\", \"Police space\", \"year\", \"Cluster Local Authorities\"]\n",
    "    for col in cols:\n",
    "        data = data.drop(col, axis=1)\n",
    "        \n",
    "    return data"
   ]
  },
  {
   "cell_type": "code",
   "execution_count": 10,
   "metadata": {},
   "outputs": [],
   "source": [
    "train_label = data[\"droped\"]\n",
    "data = drop_cols(data)\n",
    "test_label = expcheb3[\"droped\"]\n",
    "expcheb3 = drop_cols(expcheb3)"
   ]
  },
  {
   "cell_type": "code",
   "execution_count": 11,
   "metadata": {},
   "outputs": [],
   "source": [
    "RSEED = 50"
   ]
  },
  {
   "cell_type": "code",
   "execution_count": 12,
   "metadata": {},
   "outputs": [
    {
     "name": "stdout",
     "output_type": "stream",
     "text": [
      "Fitting 5 folds for each of 1 candidates, totalling 5 fits\n"
     ]
    },
    {
     "name": "stderr",
     "output_type": "stream",
     "text": [
      "[Parallel(n_jobs=-1)]: Using backend LokyBackend with 12 concurrent workers.\n",
      "[Parallel(n_jobs=-1)]: Done   5 out of   5 | elapsed:    2.3s finished\n"
     ]
    },
    {
     "data": {
      "text/plain": [
       "RandomizedSearchCV(cv=5, error_score=nan,\n",
       "                   estimator=RandomForestRegressor(bootstrap=True,\n",
       "                                                   ccp_alpha=0.0,\n",
       "                                                   criterion='mse',\n",
       "                                                   max_depth=None,\n",
       "                                                   max_features='auto',\n",
       "                                                   max_leaf_nodes=None,\n",
       "                                                   max_samples=None,\n",
       "                                                   min_impurity_decrease=0.0,\n",
       "                                                   min_impurity_split=None,\n",
       "                                                   min_samples_leaf=1,\n",
       "                                                   min_samples_split=2,\n",
       "                                                   min_weight_fraction_leaf=0.0,\n",
       "                                                   n_estimators=100,\n",
       "                                                   n_jobs=None, oob_score=False,\n",
       "                                                   random_state=50, verbose=0,\n",
       "                                                   warm_start=False),\n",
       "                   iid='deprecated', n_iter=1, n_jobs=-1,\n",
       "                   param_distributions={'bootstrap': [True, False],\n",
       "                                        'max_depth': [None, 50, 60, 70],\n",
       "                                        'max_features': ['sqrt', None],\n",
       "                                        'min_samples_split': [2, 5, 10],\n",
       "                                        'n_estimators': [100, 150, 200, 250]},\n",
       "                   pre_dispatch='2*n_jobs', random_state=50, refit=True,\n",
       "                   return_train_score=False, scoring=None, verbose=1)"
      ]
     },
     "execution_count": 12,
     "metadata": {},
     "output_type": "execute_result"
    }
   ],
   "source": [
    "# Hyperparameter grid\n",
    "param_grid = {\n",
    "    'n_estimators': [100, 150, 200, 250],#The number of trees in the forest.\n",
    "    'max_depth': [None, 50, 60, 70] ,#The maximum depth of the tree.\n",
    "    'max_features': ['sqrt', None],#he number of features to consider when looking for the best split\n",
    "    'min_samples_split': [2, 5, 10],#The minimum number of samples required to split an internal node\n",
    "    'bootstrap': [True, False]#Whether bootstrap samples are used when building trees.\n",
    "}\n",
    "\n",
    "# Estimator for use in random search\n",
    "estimator = RandomForestRegressor(random_state = RSEED)\n",
    "\n",
    "# Create the random search model\n",
    "rs = RandomizedSearchCV(estimator, param_grid, n_jobs = -1, cv = 5, \n",
    "                        n_iter = 1, verbose = 1, random_state=RSEED)\n",
    "\n",
    "# Fit \n",
    "rs.fit(data, train_label)\n"
   ]
  },
  {
   "cell_type": "code",
   "execution_count": 13,
   "metadata": {},
   "outputs": [
    {
     "data": {
      "text/plain": [
       "{'n_estimators': 100,\n",
       " 'min_samples_split': 10,\n",
       " 'max_features': 'sqrt',\n",
       " 'max_depth': 70,\n",
       " 'bootstrap': False}"
      ]
     },
     "execution_count": 13,
     "metadata": {},
     "output_type": "execute_result"
    }
   ],
   "source": [
    "rs.best_params_"
   ]
  },
  {
   "cell_type": "code",
   "execution_count": 14,
   "metadata": {},
   "outputs": [],
   "source": [
    "best_model = rs.best_estimator_"
   ]
  },
  {
   "cell_type": "code",
   "execution_count": 15,
   "metadata": {},
   "outputs": [
    {
     "data": {
      "text/plain": [
       "219.60437564163942"
      ]
     },
     "execution_count": 15,
     "metadata": {},
     "output_type": "execute_result"
    }
   ],
   "source": [
    "rf_predictions = best_model.predict(expcheb3)\n",
    "metrics.mean_squared_error(rf_predictions, test_label)"
   ]
  },
  {
   "cell_type": "code",
   "execution_count": 16,
   "metadata": {},
   "outputs": [
    {
     "data": {
      "text/html": [
       "<div>\n",
       "<style scoped>\n",
       "    .dataframe tbody tr th:only-of-type {\n",
       "        vertical-align: middle;\n",
       "    }\n",
       "\n",
       "    .dataframe tbody tr th {\n",
       "        vertical-align: top;\n",
       "    }\n",
       "\n",
       "    .dataframe thead th {\n",
       "        text-align: right;\n",
       "    }\n",
       "</style>\n",
       "<table border=\"1\" class=\"dataframe\">\n",
       "  <thead>\n",
       "    <tr style=\"text-align: right;\">\n",
       "      <th></th>\n",
       "      <th>sName</th>\n",
       "      <th>Predictions</th>\n",
       "    </tr>\n",
       "  </thead>\n",
       "  <tbody>\n",
       "    <tr>\n",
       "      <th>493</th>\n",
       "      <td>Jerusalem</td>\n",
       "      <td>1638.445913</td>\n",
       "    </tr>\n",
       "    <tr>\n",
       "      <th>196</th>\n",
       "      <td>Bene Beraq</td>\n",
       "      <td>1045.012373</td>\n",
       "    </tr>\n",
       "    <tr>\n",
       "      <th>1187</th>\n",
       "      <td>Tel Aviv - Yafo</td>\n",
       "      <td>944.238524</td>\n",
       "    </tr>\n",
       "    <tr>\n",
       "      <th>405</th>\n",
       "      <td>Haifa</td>\n",
       "      <td>840.106079</td>\n",
       "    </tr>\n",
       "    <tr>\n",
       "      <th>114</th>\n",
       "      <td>Ashdod</td>\n",
       "      <td>829.743278</td>\n",
       "    </tr>\n",
       "    <tr>\n",
       "      <th>987</th>\n",
       "      <td>Petah Tiqwa</td>\n",
       "      <td>781.702202</td>\n",
       "    </tr>\n",
       "    <tr>\n",
       "      <th>859</th>\n",
       "      <td>Netanya</td>\n",
       "      <td>776.018647</td>\n",
       "    </tr>\n",
       "    <tr>\n",
       "      <th>129</th>\n",
       "      <td>Be'er Sheva</td>\n",
       "      <td>764.202988</td>\n",
       "    </tr>\n",
       "    <tr>\n",
       "      <th>1056</th>\n",
       "      <td>Rishon LeZiyyon</td>\n",
       "      <td>741.850861</td>\n",
       "    </tr>\n",
       "    <tr>\n",
       "      <th>392</th>\n",
       "      <td>Holon</td>\n",
       "      <td>689.449429</td>\n",
       "    </tr>\n",
       "  </tbody>\n",
       "</table>\n",
       "</div>"
      ],
      "text/plain": [
       "                sName  Predictions\n",
       "493         Jerusalem  1638.445913\n",
       "196        Bene Beraq  1045.012373\n",
       "1187  Tel Aviv - Yafo   944.238524\n",
       "405             Haifa   840.106079\n",
       "114            Ashdod   829.743278\n",
       "987       Petah Tiqwa   781.702202\n",
       "859           Netanya   776.018647\n",
       "129       Be'er Sheva   764.202988\n",
       "1056  Rishon LeZiyyon   741.850861\n",
       "392             Holon   689.449429"
      ]
     },
     "execution_count": 16,
     "metadata": {},
     "output_type": "execute_result"
    }
   ],
   "source": [
    "df = pd.DataFrame({\"Predictions\":rf_predictions})\n",
    "names = [symbol2name[str(value)] for value in expcheb3[\"sSymbol\"]]\n",
    "df.insert(0,\"sName\", names)\n",
    "df = df.sort_values('Predictions', ascending = False)\n",
    "df.head(10)"
   ]
  },
  {
   "cell_type": "markdown",
   "metadata": {},
   "source": [
    "### Classify predictions\n",
    "\n",
    "in this step we calculate the prediction's avarege and converting each label to 1 if they are above avarege and 0 if they're below after the we classify the new label of the training table and the test table to find out which locality desrves to be supervised"
   ]
  },
  {
   "cell_type": "code",
   "execution_count": 17,
   "metadata": {},
   "outputs": [],
   "source": [
    "from sklearn.metrics import confusion_matrix\n",
    "import itertools\n",
    "import matplotlib.pyplot as plt\n",
    "\n",
    "def plot_confusion_matrix(cm, classes,\n",
    "                          normalize=False,\n",
    "                          title='Confusion matrix',\n",
    "                          cmap=plt.cm.Oranges):\n",
    "    \"\"\"\n",
    "    This function prints and plots the confusion matrix.\n",
    "    Normalization can be applied by setting `normalize=True`.\n",
    "    Source: http://scikit-learn.org/stable/auto_examples/model_selection/plot_confusion_matrix.html\n",
    "    \"\"\"\n",
    "    if normalize:\n",
    "        cm = cm.astype('float') / cm.sum(axis=1)[:, np.newaxis]\n",
    "        print(\"Normalized confusion matrix\")\n",
    "    else:\n",
    "        print('Confusion matrix, without normalization')\n",
    "\n",
    "    print(cm)\n",
    "\n",
    "    plt.figure(figsize = (10, 10))\n",
    "    plt.imshow(cm, interpolation='nearest', cmap=cmap)\n",
    "    plt.title(title, size = 24)\n",
    "    plt.colorbar(aspect=4)\n",
    "    tick_marks = np.arange(len(classes))\n",
    "    plt.xticks(tick_marks, classes, rotation=45, size = 14)\n",
    "    plt.yticks(tick_marks, classes, size = 14)\n",
    "\n",
    "    fmt = '.2f' if normalize else 'd'\n",
    "    thresh = cm.max() / 2.\n",
    "    \n",
    "    # Labeling the plot\n",
    "    for i, j in itertools.product(range(cm.shape[0]), range(cm.shape[1])):\n",
    "        plt.text(j, i, format(cm[i, j], fmt), fontsize = 20,\n",
    "                 horizontalalignment=\"center\",\n",
    "                 color=\"white\" if cm[i, j] > thresh else \"black\")\n",
    "        \n",
    "    plt.grid(None)\n",
    "    plt.tight_layout()\n",
    "    plt.ylabel('True label', size = 18)\n",
    "    plt.xlabel('Predicted label', size = 18)"
   ]
  },
  {
   "cell_type": "code",
   "execution_count": 18,
   "metadata": {},
   "outputs": [],
   "source": [
    "arr = np.append(rf_predictions, train_label)"
   ]
  },
  {
   "cell_type": "code",
   "execution_count": 19,
   "metadata": {},
   "outputs": [],
   "source": [
    "Avg = arr.mean(axis=0)\n",
    "rfc_train_label = train_label > Avg\n",
    "rfc_train_label = rfc_train_label.astype(int)\n",
    "rfc_test_label = rf_predictions > Avg\n",
    "rfc_test_label = rfc_test_label.astype(int)"
   ]
  },
  {
   "cell_type": "code",
   "execution_count": 20,
   "metadata": {},
   "outputs": [
    {
     "data": {
      "text/plain": [
       "array([0, 1, 1, ..., 0, 0, 0])"
      ]
     },
     "execution_count": 20,
     "metadata": {},
     "output_type": "execute_result"
    }
   ],
   "source": [
    "rfc_test_label"
   ]
  },
  {
   "cell_type": "code",
   "execution_count": 21,
   "metadata": {},
   "outputs": [
    {
     "name": "stdout",
     "output_type": "stream",
     "text": [
      "Fitting 5 folds for each of 192 candidates, totalling 960 fits\n"
     ]
    },
    {
     "name": "stderr",
     "output_type": "stream",
     "text": [
      "[Parallel(n_jobs=-1)]: Using backend LokyBackend with 12 concurrent workers.\n",
      "[Parallel(n_jobs=-1)]: Done  26 tasks      | elapsed:    2.6s\n",
      "[Parallel(n_jobs=-1)]: Done 176 tasks      | elapsed:   33.5s\n",
      "[Parallel(n_jobs=-1)]: Done 426 tasks      | elapsed:  1.3min\n",
      "[Parallel(n_jobs=-1)]: Done 776 tasks      | elapsed:  2.4min\n",
      "[Parallel(n_jobs=-1)]: Done 960 out of 960 | elapsed:  3.1min finished\n"
     ]
    },
    {
     "data": {
      "text/plain": [
       "GridSearchCV(cv=5, error_score=nan,\n",
       "             estimator=RandomForestClassifier(bootstrap=True, ccp_alpha=0.0,\n",
       "                                              class_weight=None,\n",
       "                                              criterion='gini', max_depth=None,\n",
       "                                              max_features='auto',\n",
       "                                              max_leaf_nodes=None,\n",
       "                                              max_samples=None,\n",
       "                                              min_impurity_decrease=0.0,\n",
       "                                              min_impurity_split=None,\n",
       "                                              min_samples_leaf=1,\n",
       "                                              min_samples_split=2,\n",
       "                                              min_weight_fraction_leaf=0.0,\n",
       "                                              n_estimators=100, n_jobs=None,\n",
       "                                              oob_score=False, random_state=50,\n",
       "                                              verbose=0, warm_start=False),\n",
       "             iid='deprecated', n_jobs=-1,\n",
       "             param_grid={'bootstrap': [True, False],\n",
       "                         'max_depth': [None, 50, 60, 70],\n",
       "                         'max_features': ['sqrt', None],\n",
       "                         'min_samples_split': [2, 5, 10],\n",
       "                         'n_estimators': [100, 150, 200, 250]},\n",
       "             pre_dispatch='2*n_jobs', refit=True, return_train_score=False,\n",
       "             scoring='accuracy', verbose=1)"
      ]
     },
     "execution_count": 21,
     "metadata": {},
     "output_type": "execute_result"
    }
   ],
   "source": [
    "from sklearn.ensemble import RandomForestClassifier\n",
    "\n",
    "estimator = RandomForestClassifier(random_state = RSEED)\n",
    "rs = GridSearchCV(estimator, param_grid, n_jobs = -1, \n",
    "                        scoring = 'accuracy', cv = 5, verbose = 1)\n",
    "rs.fit(data, rfc_train_label)\n"
   ]
  },
  {
   "cell_type": "code",
   "execution_count": 22,
   "metadata": {},
   "outputs": [
    {
     "data": {
      "text/plain": [
       "{'bootstrap': False,\n",
       " 'max_depth': None,\n",
       " 'max_features': 'sqrt',\n",
       " 'min_samples_split': 2,\n",
       " 'n_estimators': 100}"
      ]
     },
     "execution_count": 22,
     "metadata": {},
     "output_type": "execute_result"
    }
   ],
   "source": [
    "rs.best_params_"
   ]
  },
  {
   "cell_type": "code",
   "execution_count": 23,
   "metadata": {},
   "outputs": [],
   "source": [
    "best_model = rs.best_estimator_"
   ]
  },
  {
   "cell_type": "code",
   "execution_count": 24,
   "metadata": {},
   "outputs": [
    {
     "name": "stdout",
     "output_type": "stream",
     "text": [
      "Predictions:  [0 1 1 ... 0 0 0]\n",
      "Accuracy: 0.9933993399339934\n"
     ]
    }
   ],
   "source": [
    "rfc_predictions = best_model.predict(expcheb3)\n",
    "print(\"Predictions: \", rfc_predictions)\n",
    "print('Accuracy:', metrics.accuracy_score(rfc_test_label, rfc_predictions))"
   ]
  },
  {
   "cell_type": "code",
   "execution_count": 25,
   "metadata": {},
   "outputs": [
    {
     "name": "stdout",
     "output_type": "stream",
     "text": [
      "Confusion matrix, without normalization\n",
      "[[1063    2]\n",
      " [   6  141]]\n"
     ]
    },
    {
     "data": {
      "image/png": "[encoded data removed]",
      "text/plain": [
       "<Figure size 720x720 with 2 Axes>"
      ]
     },
     "metadata": {
      "needs_background": "light"
     },
     "output_type": "display_data"
    }
   ],
   "source": [
    "matrix = confusion_matrix(rfc_test_label, rfc_predictions)\n",
    "plot_confusion_matrix(matrix, classes = ['Below average (Supervisor not Needed)', 'Above average (Supervisor Needed)'],\n",
    "                      title = 'Droped Votes Confusion Matrix')"
   ]
  },
  {
   "cell_type": "code",
   "execution_count": 26,
   "metadata": {},
   "outputs": [
    {
     "data": {
      "text/html": [
       "<div>\n",
       "<style scoped>\n",
       "    .dataframe tbody tr th:only-of-type {\n",
       "        vertical-align: middle;\n",
       "    }\n",
       "\n",
       "    .dataframe tbody tr th {\n",
       "        vertical-align: top;\n",
       "    }\n",
       "\n",
       "    .dataframe thead th {\n",
       "        text-align: right;\n",
       "    }\n",
       "</style>\n",
       "<table border=\"1\" class=\"dataframe\">\n",
       "  <thead>\n",
       "    <tr style=\"text-align: right;\">\n",
       "      <th></th>\n",
       "      <th>sName</th>\n",
       "      <th>Supervisor needed</th>\n",
       "    </tr>\n",
       "  </thead>\n",
       "  <tbody>\n",
       "    <tr>\n",
       "      <th>0</th>\n",
       "      <td>Abu Juway'ad</td>\n",
       "      <td>0</td>\n",
       "    </tr>\n",
       "    <tr>\n",
       "      <th>1</th>\n",
       "      <td>Abu Ghosh</td>\n",
       "      <td>1</td>\n",
       "    </tr>\n",
       "    <tr>\n",
       "      <th>2</th>\n",
       "      <td>Abu Sinan</td>\n",
       "      <td>1</td>\n",
       "    </tr>\n",
       "    <tr>\n",
       "      <th>3</th>\n",
       "      <td>Abu 'Abdun</td>\n",
       "      <td>0</td>\n",
       "    </tr>\n",
       "    <tr>\n",
       "      <th>4</th>\n",
       "      <td>Abu Kuraynat</td>\n",
       "      <td>0</td>\n",
       "    </tr>\n",
       "    <tr>\n",
       "      <th>...</th>\n",
       "      <td>...</td>\n",
       "      <td>...</td>\n",
       "    </tr>\n",
       "    <tr>\n",
       "      <th>1207</th>\n",
       "      <td>Tequma</td>\n",
       "      <td>0</td>\n",
       "    </tr>\n",
       "    <tr>\n",
       "      <th>1208</th>\n",
       "      <td>Teqoa</td>\n",
       "      <td>0</td>\n",
       "    </tr>\n",
       "    <tr>\n",
       "      <th>1209</th>\n",
       "      <td>Tarabin as-Sani'</td>\n",
       "      <td>0</td>\n",
       "    </tr>\n",
       "    <tr>\n",
       "      <th>1210</th>\n",
       "      <td>Tarabin As-Sani</td>\n",
       "      <td>0</td>\n",
       "    </tr>\n",
       "    <tr>\n",
       "      <th>1211</th>\n",
       "      <td>Tarum</td>\n",
       "      <td>0</td>\n",
       "    </tr>\n",
       "  </tbody>\n",
       "</table>\n",
       "<p>1212 rows × 2 columns</p>\n",
       "</div>"
      ],
      "text/plain": [
       "                 sName  Supervisor needed\n",
       "0         Abu Juway'ad                  0\n",
       "1            Abu Ghosh                  1\n",
       "2            Abu Sinan                  1\n",
       "3           Abu 'Abdun                  0\n",
       "4         Abu Kuraynat                  0\n",
       "...                ...                ...\n",
       "1207            Tequma                  0\n",
       "1208             Teqoa                  0\n",
       "1209  Tarabin as-Sani'                  0\n",
       "1210   Tarabin As-Sani                  0\n",
       "1211             Tarum                  0\n",
       "\n",
       "[1212 rows x 2 columns]"
      ]
     },
     "execution_count": 26,
     "metadata": {},
     "output_type": "execute_result"
    }
   ],
   "source": [
    "df = pd.DataFrame({\"Supervisor needed\":rfc_predictions})\n",
    "names = [symbol2name[str(value)] for value in expcheb3[\"sSymbol\"]]\n",
    "df.insert(0,\"sName\", names)\n",
    "df"
   ]
  },
  {
   "cell_type": "code",
   "execution_count": 27,
   "metadata": {
    "scrolled": false
   },
   "outputs": [
    {
     "data": {
      "text/plain": [
       "<Figure size 432x288 with 0 Axes>"
      ]
     },
     "metadata": {},
     "output_type": "display_data"
    },
    {
     "data": {
      "image/png": "[encoded data removed]",
      "text/plain": [
       "<Figure size 1152x648 with 1 Axes>"
      ]
     },
     "metadata": {
      "needs_background": "light"
     },
     "output_type": "display_data"
    }
   ],
   "source": [
    "plt.figure(0)\n",
    "plt.figure(figsize=(16,9))\n",
    "plt.scatter(df[\"sName\"], rfc_predictions)\n",
    "# You can specify a rotation for the tick labels in degrees or with keywords.\n",
    "plt.xticks(df[\"sName\"], df[\"sName\"], rotation='vertical')\n",
    "# Pad margins so that markers don't get clipped by the axes\n",
    "plt.margins(0.005)\n",
    "# Tweak spacing to prevent clipping of tick-labels\n",
    "plt.subplots_adjust(bottom=0.005)\n",
    "plt.show()"
   ]
  }
 ],
 "metadata": {
  "kernelspec": {
   "display_name": "Python 3",
   "language": "python",
   "name": "python3"
  },
  "language_info": {
   "codemirror_mode": {
    "name": "ipython",
    "version": 3
   },
   "file_extension": ".py",
   "mimetype": "text/x-python",
   "name": "python",
   "nbconvert_exporter": "python",
   "pygments_lexer": "ipython3",
   "version": "3.7.6"
  }
 },
 "nbformat": 4,
 "nbformat_minor": 4
}
